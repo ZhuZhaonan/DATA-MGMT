{
  "nbformat": 4,
  "nbformat_minor": 0,
  "metadata": {
    "colab": {
      "name": "20190423_THA_3_sub.ipynb",
      "version": "0.3.2",
      "provenance": [],
      "collapsed_sections": []
    },
    "kernelspec": {
      "name": "python3",
      "display_name": "Python 3"
    }
  },
  "cells": [
    {
      "metadata": {
        "id": "ytitlAV2AUBI",
        "colab_type": "text"
      },
      "cell_type": "markdown",
      "source": [
        "# THA3: Research question and dataset.\n",
        "*  Find a simple research question and compile a dataset to answer that question.\n",
        "* The dataset must be compiled from various sources.\n",
        "*  Compile a data dictionary for your dataset.\n",
        "*  Update your GitHub repository accordingly."
      ]
    },
    {
      "metadata": {
        "id": "X_ZoK_Q71T9x",
        "colab_type": "text"
      },
      "cell_type": "markdown",
      "source": [
        "## Research Question\n",
        "\n",
        "I want to study the relationship between foundations' evaluation result and their donation income. Ideally, organization's evaluation result is a kind of important information for public and donors to make their donation decision. Evaluation result should help the nonprofit sector develop the mechanism of selecting the superior organizaitons and eliminating the inferior ones. However, empirical studies on this topic are limit, and researches has fallen short of analysing what factors could contribute to the relationship. My research questions are as follow:\n",
        "* Whether the evaluation result and foundation's donation income have correlationship? \n",
        "\n",
        "## Data Source: RICF\n",
        "I will use 2016 annual report's data in RICF, which is the lastest data of China's foundation. In order to answer my question, I will merge two dataset as following:\n",
        "\n",
        "Basic information: https://github.com/ma-ji/RICF/raw/master/2016/2016_basic.tsv\n",
        "\n",
        "Financial_activities: https://raw.githubusercontent.com/ma-ji/RICF/master/2016/2016_financial_activities.tsv\n",
        "\n",
        "Codebooks: https://github.com/ma-ji/RICF/blob/master/RICF%20Codebook.xlsx\n",
        "\n",
        "\n"
      ]
    },
    {
      "metadata": {
        "id": "BucOXdVupRSj",
        "colab_type": "text"
      },
      "cell_type": "markdown",
      "source": [
        "## Research Method and Workflow\n",
        "\n"
      ]
    },
    {
      "metadata": {
        "id": "7FxAtynfK034",
        "colab_type": "text"
      },
      "cell_type": "markdown",
      "source": [
        "### 1. Read and extract evaluation result  from 2016 basic information"
      ]
    },
    {
      "metadata": {
        "id": "aiANSz6uUABc",
        "colab_type": "code",
        "outputId": "45a93bb7-a667-4b77-ef68-6f3ff78090d5",
        "colab": {
          "base_uri": "https://localhost:8080/",
          "height": 204
        }
      },
      "cell_type": "code",
      "source": [
        "import pandas as pd\n",
        "df1= pd.read_csv(\"https://raw.githubusercontent.com/ma-ji/RICF/master/2016/2016_basic.tsv\",sep='\\t')\n",
        "df_bas=df1[[\"ricf_oid\",\"ba_evi\"]]  \n",
        "df_bas.rename(columns={'ba_evi':'ba_evl'}, inplace = True)\n",
        "print(df_bas.head(5))"
      ],
      "execution_count": 7,
      "outputs": [
        {
          "output_type": "stream",
          "text": [
            "   ricf_oid ba_evl\n",
            "0      3490     1A\n",
            "1      5690     --\n",
            "2      3070    未参评\n",
            "3      1583    未参评\n",
            "4      3884     --\n"
          ],
          "name": "stdout"
        },
        {
          "output_type": "stream",
          "text": [
            "/usr/local/lib/python3.6/dist-packages/pandas/core/frame.py:4025: SettingWithCopyWarning: \n",
            "A value is trying to be set on a copy of a slice from a DataFrame\n",
            "\n",
            "See the caveats in the documentation: http://pandas.pydata.org/pandas-docs/stable/indexing.html#indexing-view-versus-copy\n",
            "  return super(DataFrame, self).rename(**kwargs)\n"
          ],
          "name": "stderr"
        }
      ]
    },
    {
      "metadata": {
        "id": "RpHxx1lGgXtV",
        "colab_type": "text"
      },
      "cell_type": "markdown",
      "source": [
        "### 2. Read and extract donation income from financial activities"
      ]
    },
    {
      "metadata": {
        "id": "jjGAcdIdXltO",
        "colab_type": "code",
        "outputId": "ff4b1503-7443-4416-91e3-82630f6d473f",
        "colab": {
          "base_uri": "https://localhost:8080/",
          "height": 119
        }
      },
      "cell_type": "code",
      "source": [
        "df2= pd.read_csv('https://raw.githubusercontent.com/ma-ji/RICF/master/2016/2016_financial_activities.tsv',sep='\\t')\n",
        "list(df2)\n",
        "df_act=df2[['ricf_oid','fa_dine_this','fa_dinu_this']]\n",
        "print(df_act.head(5))\n"
      ],
      "execution_count": 8,
      "outputs": [
        {
          "output_type": "stream",
          "text": [
            "   ricf_oid fa_dine_this  fa_dinu_this\n",
            "0      2161         0.00    100,000.00\n",
            "1      1364         0.00  3,272,400.40\n",
            "2      2213         0.00          0.00\n",
            "3      3889         0.00  3,073,774.50\n",
            "4      5095         0.00  2,016,000.00\n"
          ],
          "name": "stdout"
        }
      ]
    },
    {
      "metadata": {
        "id": "hLAaWNR5gtEk",
        "colab_type": "text"
      },
      "cell_type": "markdown",
      "source": [
        "### 3. Meger two datasets"
      ]
    },
    {
      "metadata": {
        "id": "SbzkkuSkbnxi",
        "colab_type": "code",
        "outputId": "64a593ea-3e3d-4c11-f2dd-daf7c7dcc345",
        "colab": {
          "base_uri": "https://localhost:8080/",
          "height": 119
        }
      },
      "cell_type": "code",
      "source": [
        "df_3=df_bas.merge(df_act, on=\"ricf_oid\", how=\"inner\")\n",
        "print(df_3.head(5))\n"
      ],
      "execution_count": 9,
      "outputs": [
        {
          "output_type": "stream",
          "text": [
            "   ricf_oid ba_evl   fa_dine_this  fa_dinu_this\n",
            "0      2288    未参评           0.00    379,538.00\n",
            "1      2256    未参评   1,273,789.30  4,745,780.90\n",
            "2      1059    未参评           0.00      9,200.00\n",
            "3       379     1A  16,793,400.00          0.00\n",
            "4       972    未参评           0.00    709,826.90\n"
          ],
          "name": "stdout"
        }
      ]
    },
    {
      "metadata": {
        "id": "LWK7E34Sf0Mt",
        "colab_type": "code",
        "colab": {}
      },
      "cell_type": "code",
      "source": [
        "df_3.ba_evl.fillna('None').str.contains('A')\n",
        "df_e=df_3[df_3.ba_evl.fillna('None').str.contains('A')]\n",
        "df_e['ba_evl']=[s.strip('A') for s in df_e.ba_evl]\n",
        "df_e\n"
      ],
      "execution_count": 0,
      "outputs": []
    },
    {
      "metadata": {
        "id": "wjO4qc0AhAK5",
        "colab_type": "code",
        "colab": {
          "base_uri": "https://localhost:8080/",
          "height": 170
        },
        "outputId": "93dbb345-4ef9-47ea-90e6-e2a1a8665729"
      },
      "cell_type": "code",
      "source": [
        "df_e.info()"
      ],
      "execution_count": 12,
      "outputs": [
        {
          "output_type": "stream",
          "text": [
            "<class 'pandas.core.frame.DataFrame'>\n",
            "Int64Index: 511 entries, 3 to 1749\n",
            "Data columns (total 4 columns):\n",
            "ricf_oid        511 non-null int64\n",
            "ba_evl          511 non-null object\n",
            "fa_dine_this    511 non-null object\n",
            "fa_dinu_this    511 non-null object\n",
            "dtypes: int64(1), object(3)\n",
            "memory usage: 20.0+ KB\n"
          ],
          "name": "stdout"
        }
      ]
    },
    {
      "metadata": {
        "id": "b11j3ZMohYy7",
        "colab_type": "text"
      },
      "cell_type": "markdown",
      "source": [
        "### 4. Clean data"
      ]
    },
    {
      "metadata": {
        "id": "4gwvKbVexaSL",
        "colab_type": "code",
        "colab": {}
      },
      "cell_type": "code",
      "source": [
        "df_e['ba_evl'] = df_e['ba_evl'].astype('float64')\n",
        "df_e"
      ],
      "execution_count": 0,
      "outputs": []
    },
    {
      "metadata": {
        "id": "xhGGAXPpu_VK",
        "colab_type": "code",
        "outputId": "c9c00738-fbfc-47a3-af93-9e4c443d4460",
        "colab": {
          "base_uri": "https://localhost:8080/",
          "height": 221
        }
      },
      "cell_type": "code",
      "source": [
        "df_e['fa_dine_this']=df_e['fa_dine_this'].apply(lambda x: x.replace(',', '')).astype('float')\n",
        "df_e['fa_dinu_this']=df_e['fa_dinu_this'].apply(lambda x: x.replace(',', '')).astype('float')"
      ],
      "execution_count": 14,
      "outputs": [
        {
          "output_type": "stream",
          "text": [
            "/usr/local/lib/python3.6/dist-packages/ipykernel_launcher.py:1: SettingWithCopyWarning: \n",
            "A value is trying to be set on a copy of a slice from a DataFrame.\n",
            "Try using .loc[row_indexer,col_indexer] = value instead\n",
            "\n",
            "See the caveats in the documentation: http://pandas.pydata.org/pandas-docs/stable/indexing.html#indexing-view-versus-copy\n",
            "  \"\"\"Entry point for launching an IPython kernel.\n",
            "/usr/local/lib/python3.6/dist-packages/ipykernel_launcher.py:2: SettingWithCopyWarning: \n",
            "A value is trying to be set on a copy of a slice from a DataFrame.\n",
            "Try using .loc[row_indexer,col_indexer] = value instead\n",
            "\n",
            "See the caveats in the documentation: http://pandas.pydata.org/pandas-docs/stable/indexing.html#indexing-view-versus-copy\n",
            "  \n"
          ],
          "name": "stderr"
        }
      ]
    },
    {
      "metadata": {
        "id": "EpDXMYiTvmgi",
        "colab_type": "code",
        "colab": {}
      },
      "cell_type": "code",
      "source": [
        "# doi= donation income of 2016\n",
        "df_e[\"doi\"]=df_e[\"fa_dine_this\"]+df_e[\"fa_dinu_this\"]\n",
        "df_e"
      ],
      "execution_count": 0,
      "outputs": []
    },
    {
      "metadata": {
        "id": "EMrDyXvShyvz",
        "colab_type": "text"
      },
      "cell_type": "markdown",
      "source": [
        "### 5. Correlation test"
      ]
    },
    {
      "metadata": {
        "id": "LAC-6Nk0Luk9",
        "colab_type": "code",
        "colab": {}
      },
      "cell_type": "code",
      "source": [
        "df_cor=df_e[['doi','ba_evl']]\n",
        "df_cor"
      ],
      "execution_count": 0,
      "outputs": []
    },
    {
      "metadata": {
        "id": "aYqNMomsrLCE",
        "colab_type": "code",
        "outputId": "40010ec2-2e79-4147-8e0b-b6aa76e991eb",
        "colab": {
          "base_uri": "https://localhost:8080/",
          "height": 107
        }
      },
      "cell_type": "code",
      "source": [
        "df_cor_s=df_cor.corr(method='spearman')\n",
        "df_cor_s"
      ],
      "execution_count": 0,
      "outputs": [
        {
          "output_type": "execute_result",
          "data": {
            "text/html": [
              "<div>\n",
              "<style scoped>\n",
              "    .dataframe tbody tr th:only-of-type {\n",
              "        vertical-align: middle;\n",
              "    }\n",
              "\n",
              "    .dataframe tbody tr th {\n",
              "        vertical-align: top;\n",
              "    }\n",
              "\n",
              "    .dataframe thead th {\n",
              "        text-align: right;\n",
              "    }\n",
              "</style>\n",
              "<table border=\"1\" class=\"dataframe\">\n",
              "  <thead>\n",
              "    <tr style=\"text-align: right;\">\n",
              "      <th></th>\n",
              "      <th>doi</th>\n",
              "      <th>ba_evl</th>\n",
              "    </tr>\n",
              "  </thead>\n",
              "  <tbody>\n",
              "    <tr>\n",
              "      <th>doi</th>\n",
              "      <td>1.000000</td>\n",
              "      <td>0.317896</td>\n",
              "    </tr>\n",
              "    <tr>\n",
              "      <th>ba_evl</th>\n",
              "      <td>0.317896</td>\n",
              "      <td>1.000000</td>\n",
              "    </tr>\n",
              "  </tbody>\n",
              "</table>\n",
              "</div>"
            ],
            "text/plain": [
              "             doi    ba_evl\n",
              "doi     1.000000  0.317896\n",
              "ba_evl  0.317896  1.000000"
            ]
          },
          "metadata": {
            "tags": []
          },
          "execution_count": 156
        }
      ]
    },
    {
      "metadata": {
        "id": "p5byKeYMiDdq",
        "colab_type": "text"
      },
      "cell_type": "markdown",
      "source": [
        "###6. Conclution\n",
        "\n",
        " The evaluation result and donation income have correlationship, the correlation coefficient R= 0.317896\n",
        "\n"
      ]
    }
  ]
}