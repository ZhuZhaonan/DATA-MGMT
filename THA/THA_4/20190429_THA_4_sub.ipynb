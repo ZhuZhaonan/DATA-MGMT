{
  "nbformat": 4,
  "nbformat_minor": 0,
  "metadata": {
    "colab": {
      "name": "20190429_THA_4_sub.ipynb",
      "version": "0.3.2",
      "provenance": [],
      "collapsed_sections": [],
      "toc_visible": true
    },
    "kernelspec": {
      "name": "python3",
      "display_name": "Python 3"
    }
  },
  "cells": [
    {
      "metadata": {
        "id": "EoUexdfN2nl6",
        "colab_type": "text"
      },
      "cell_type": "markdown",
      "source": [
        "# THA4: Research operationalization and workflow.\n",
        "\n",
        ">  1. The same requirements as THA3 but with a different research question and dataset.\n",
        "\n",
        "> 2.  Build a workflow showing all important phases/components of your work.\n",
        "\n",
        "> 3.  Update your GitHub repository accordingly."
      ]
    },
    {
      "metadata": {
        "id": "1a3bKQZmNGgj",
        "colab_type": "text"
      },
      "cell_type": "markdown",
      "source": [
        "## 1. Research question: foundation type and donation income\n",
        "\n",
        "I want to find out the relationship between foundation's type ( public foundation, private foundation)and its donation income in China. In general, schalors think public foundation could get more donation than private foundation, however, empirical studies on this topic are limit. My research question are as follow: \n",
        "\n",
        "* Whether foundation type and donation income have corelation relationship. "
      ]
    },
    {
      "metadata": {
        "id": "BXg9YfH4QUqV",
        "colab_type": "text"
      },
      "cell_type": "markdown",
      "source": [
        "## 2. Data Source: RICF\n",
        "I will use 2016 annual report's data in RICF, which is the lastest data of China's foundation. In order to answer my question, I will merge four dataset as following:\n",
        "\n",
        "Basic information: https://github.com/ma-ji/RICF/raw/master/2016/2016_basic.tsv\n",
        "\n",
        "Financial_activities: https://raw.githubusercontent.com/ma-ji/RICF/master/2016/2016_financial_activities.tsv\n",
        "\n",
        "Activities overview : https://github.com/ma-ji/RICF/blob/master/2016/2016_activities_overview.tsv\n",
        "\n",
        "Financial position: https://raw.githubusercontent.com/ma-ji/RICF/master/2016/2016_financial_position.tsv\n",
        "\n",
        "Dictionary: \n",
        "\n"
      ]
    },
    {
      "metadata": {
        "id": "hkI3s8dDRvjF",
        "colab_type": "text"
      },
      "cell_type": "markdown",
      "source": [
        "##3.  Work Flow"
      ]
    },
    {
      "metadata": {
        "id": "bQc0r3nH-EMn",
        "colab_type": "text"
      },
      "cell_type": "markdown",
      "source": [
        "**Work flow on git hub: ** \n",
        "\n",
        "https://github.com/ZhuZhaonan/DATA-MGMT/blob/master/THA/THA_4/THA_4_workflow.jpg"
      ]
    },
    {
      "metadata": {
        "id": "Ib_5gFauVUyN",
        "colab_type": "text"
      },
      "cell_type": "markdown",
      "source": [
        "## 4. Row data"
      ]
    },
    {
      "metadata": {
        "id": "yrWPPB943dJR",
        "colab_type": "code",
        "outputId": "b2be8f28-3c1c-44cc-95ca-2a7b6738927c",
        "colab": {
          "base_uri": "https://localhost:8080/",
          "height": 224
        }
      },
      "cell_type": "code",
      "source": [
        "# 2016 basic information\n",
        "import pandas as pd\n",
        "df1= pd.read_csv(\"https://raw.githubusercontent.com/ma-ji/RICF/master/2016/2016_basic.tsv\",sep='\\t')\n",
        "df_bas=df1[[\"ricf_oid\",\"ba_ntr\",\"ba_fdt\",\"ba_fnd\",\"ba_evi\"]] \n",
        "df_bas.rename(columns={'ba_evi':'ba_evl'}, inplace = True)\n",
        "print(df_bas.head(5))"
      ],
      "execution_count": 0,
      "outputs": [
        {
          "output_type": "stream",
          "text": [
            "   ricf_oid ba_ntr       ba_fdt   ba_fnd ba_evl\n",
            "0      3490    NaN  2005年12月31日    200万元     1A\n",
            "1      5690    NaN  2017年02月09日       --     --\n",
            "2      3070    NaN  2007年10月15日    500万元    未参评\n",
            "3      1583    NaN  1993年07月08日  6,200万元    未参评\n",
            "4      3884    NaN  2014年07月04日    200万元     --\n"
          ],
          "name": "stdout"
        },
        {
          "output_type": "stream",
          "text": [
            "/usr/local/lib/python3.6/dist-packages/pandas/core/frame.py:4025: SettingWithCopyWarning: \n",
            "A value is trying to be set on a copy of a slice from a DataFrame\n",
            "\n",
            "See the caveats in the documentation: http://pandas.pydata.org/pandas-docs/stable/indexing.html#indexing-view-versus-copy\n",
            "  return super(DataFrame, self).rename(**kwargs)\n"
          ],
          "name": "stderr"
        }
      ]
    },
    {
      "metadata": {
        "id": "MVfucqFRB2c8",
        "colab_type": "code",
        "outputId": "f6c512df-0a03-4665-f57e-827838bce337",
        "colab": {
          "base_uri": "https://localhost:8080/",
          "height": 119
        }
      },
      "cell_type": "code",
      "source": [
        "# 2016 activities overview\n",
        "\n",
        "df2= pd.read_csv('https://raw.githubusercontent.com/ma-ji/RICF/master/2016/2016_activities_overview.tsv',sep='\\t')\n",
        "list(df2)\n",
        "df_ove= df2[['ricf_oid','ao_ad','ao_adn']]\n",
        "print(df_ove.head(5))"
      ],
      "execution_count": 0,
      "outputs": [
        {
          "output_type": "stream",
          "text": [
            "   ricf_oid         ao_ad        ao_adn\n",
            "0      2161    100,000.00          0.00\n",
            "1      1364  3,272,400.40          0.00\n",
            "2      2213          0.00          0.00\n",
            "3      3889  3,073,774.50          0.00\n",
            "4      5095    100,000.00  1,916,000.00\n"
          ],
          "name": "stdout"
        }
      ]
    },
    {
      "metadata": {
        "id": "MYV0aqKPCace",
        "colab_type": "code",
        "outputId": "a2bc027e-151f-4c65-ddb2-c988f73144c1",
        "colab": {
          "base_uri": "https://localhost:8080/",
          "height": 119
        }
      },
      "cell_type": "code",
      "source": [
        "#2016 Financial activities\n",
        "\n",
        "df3= pd.read_csv('https://raw.githubusercontent.com/ma-ji/RICF/master/2016/2016_financial_activities.tsv',sep='\\t')\n",
        "list(df3)\n",
        "df_act=df3[['ricf_oid','fa_dine_this','fa_dinu_this']]\n",
        "print(df_act.head(5))"
      ],
      "execution_count": 0,
      "outputs": [
        {
          "output_type": "stream",
          "text": [
            "   ricf_oid fa_dine_this  fa_dinu_this\n",
            "0      2161         0.00    100,000.00\n",
            "1      1364         0.00  3,272,400.40\n",
            "2      2213         0.00          0.00\n",
            "3      3889         0.00  3,073,774.50\n",
            "4      5095         0.00  2,016,000.00\n"
          ],
          "name": "stdout"
        }
      ]
    },
    {
      "metadata": {
        "id": "5bzjKYBmDjxa",
        "colab_type": "code",
        "outputId": "c9ff2a13-eff9-4bcc-fdf1-eae3d67baa75",
        "colab": {
          "base_uri": "https://localhost:8080/",
          "height": 119
        }
      },
      "cell_type": "code",
      "source": [
        "# 2016 Financial position\n",
        "\n",
        "df4= pd.read_csv('https://raw.githubusercontent.com/ma-ji/RICF/master/2016/2016_financial_position.tsv',sep='\\t')\n",
        "list(df4)\n",
        "df_pos= df4[['ricf_oid','fp_ntt_end','fp_tt_end']]\n",
        "print(df_pos.head(5))"
      ],
      "execution_count": 0,
      "outputs": [
        {
          "output_type": "stream",
          "text": [
            "   ricf_oid    fp_ntt_end     fp_tt_end\n",
            "0      2161  5,370,043.63  5,612,310.95\n",
            "1      1364  9,861,352.00  9,861,352.00\n",
            "2      2213    563,301.45    563,301.45\n",
            "3      3889  2,283,367.43  2,383,367.43\n",
            "4      5095  4,104,496.61  4,104,496.61\n"
          ],
          "name": "stdout"
        }
      ]
    },
    {
      "metadata": {
        "id": "eYJKmnYrES0Q",
        "colab_type": "code",
        "outputId": "6b0613a9-e759-4b74-fdca-9844c10db5c4",
        "colab": {
          "base_uri": "https://localhost:8080/",
          "height": 340
        }
      },
      "cell_type": "code",
      "source": [
        "# meger df_bas and df_ove\n",
        "df_5=df_bas.merge(df_ove, on=\"ricf_oid\", how=\"inner\")\n",
        "print(df_5.head(5))\n",
        "\n",
        "# meger df_5 and df_act\n",
        "df_6= df_5.merge(df_act,  on=\"ricf_oid\", how=\"inner\")\n",
        "print(df_6.head(5))\n",
        "\n",
        "# meger df_6 and df_pos\n",
        "data_raw= df_6.merge(df_pos,  on=\"ricf_oid\", how=\"inner\")\n",
        "data_raw.to_csv('data_raw.csv')\n"
      ],
      "execution_count": 0,
      "outputs": [
        {
          "output_type": "stream",
          "text": [
            "   ricf_oid  ba_ntr      ba_fdt    ba_fnd ba_evl          ao_ad ao_adn\n",
            "0      2288  非公募基金会  2011-07-04    200.00    未参评     379,538.00   0.00\n",
            "1      2256  非公募基金会  2001-06-01    220.00    未参评   6,019,570.20   0.00\n",
            "2      1059  非公募基金会  2013-12-13    200.00    未参评       9,200.00   0.00\n",
            "3       379  非公募基金会  2007-06-21  2,000.00     1A  16,793,400.00   0.00\n",
            "4       972  非公募基金会  2013-05-08    400.00    未参评     709,826.90   0.00\n",
            "   ricf_oid  ba_ntr      ba_fdt    ba_fnd ba_evl          ao_ad ao_adn  \\\n",
            "0      2288  非公募基金会  2011-07-04    200.00    未参评     379,538.00   0.00   \n",
            "1      2256  非公募基金会  2001-06-01    220.00    未参评   6,019,570.20   0.00   \n",
            "2      1059  非公募基金会  2013-12-13    200.00    未参评       9,200.00   0.00   \n",
            "3       379  非公募基金会  2007-06-21  2,000.00     1A  16,793,400.00   0.00   \n",
            "4       972  非公募基金会  2013-05-08    400.00    未参评     709,826.90   0.00   \n",
            "\n",
            "    fa_dine_this  fa_dinu_this  \n",
            "0           0.00    379,538.00  \n",
            "1   1,273,789.30  4,745,780.90  \n",
            "2           0.00      9,200.00  \n",
            "3  16,793,400.00          0.00  \n",
            "4           0.00    709,826.90  \n"
          ],
          "name": "stdout"
        }
      ]
    },
    {
      "metadata": {
        "id": "a91fByctVjlr",
        "colab_type": "text"
      },
      "cell_type": "markdown",
      "source": [
        "## 5. Cleaning data"
      ]
    },
    {
      "metadata": {
        "id": "-08nYRHWJqkr",
        "colab_type": "code",
        "outputId": "436c69d0-7c45-4946-8b32-4ea831e767e9",
        "colab": {
          "base_uri": "https://localhost:8080/",
          "height": 289
        }
      },
      "cell_type": "code",
      "source": [
        "data_raw.shape\n",
        "data_raw.dtypes\n",
        "data_raw.info()\n"
      ],
      "execution_count": 0,
      "outputs": [
        {
          "output_type": "stream",
          "text": [
            "<class 'pandas.core.frame.DataFrame'>\n",
            "Int64Index: 1769 entries, 0 to 1768\n",
            "Data columns (total 11 columns):\n",
            "ricf_oid        1769 non-null int64\n",
            "ba_ntr          1740 non-null object\n",
            "ba_fdt          1769 non-null object\n",
            "ba_fnd          1769 non-null object\n",
            "ba_evl          1729 non-null object\n",
            "ao_ad           1769 non-null object\n",
            "ao_adn          1769 non-null object\n",
            "fa_dine_this    1769 non-null object\n",
            "fa_dinu_this    1769 non-null object\n",
            "fp_ntt_end      1769 non-null object\n",
            "fp_tt_end       1769 non-null object\n",
            "dtypes: int64(1), object(10)\n",
            "memory usage: 165.8+ KB\n"
          ],
          "name": "stdout"
        }
      ]
    },
    {
      "metadata": {
        "id": "JWG2z3UhKVty",
        "colab_type": "code",
        "outputId": "a86196c6-cce1-46c1-9fc1-6c999992665d",
        "colab": {
          "base_uri": "https://localhost:8080/",
          "height": 238
        }
      },
      "cell_type": "code",
      "source": [
        "print(data_raw.head(5))"
      ],
      "execution_count": 0,
      "outputs": [
        {
          "output_type": "stream",
          "text": [
            "   ricf_oid  ba_ntr      ba_fdt    ba_fnd ba_evl          ao_ad ao_adn  \\\n",
            "0      2288  非公募基金会  2011-07-04    200.00    未参评     379,538.00   0.00   \n",
            "1      2256  非公募基金会  2001-06-01    220.00    未参评   6,019,570.20   0.00   \n",
            "2      1059  非公募基金会  2013-12-13    200.00    未参评       9,200.00   0.00   \n",
            "3       379  非公募基金会  2007-06-21  2,000.00     1A  16,793,400.00   0.00   \n",
            "4       972  非公募基金会  2013-05-08    400.00    未参评     709,826.90   0.00   \n",
            "\n",
            "    fa_dine_this  fa_dinu_this     fp_ntt_end      fp_tt_end  \n",
            "0           0.00    379,538.00   2,877,634.44   3,218,571.02  \n",
            "1   1,273,789.30  4,745,780.90   4,351,660.63   5,822,354.13  \n",
            "2           0.00      9,200.00   2,459,550.35   2,459,550.35  \n",
            "3  16,793,400.00          0.00  75,637,538.48  76,188,189.52  \n",
            "4           0.00    709,826.90   4,865,096.85   4,865,096.86  \n"
          ],
          "name": "stdout"
        }
      ]
    },
    {
      "metadata": {
        "id": "pcB35EmYKkE9",
        "colab_type": "code",
        "outputId": "5320273b-0b9b-490f-a04e-038310d766f8",
        "colab": {
          "base_uri": "https://localhost:8080/",
          "height": 238
        }
      },
      "cell_type": "code",
      "source": [
        "data_raw['fa_dine_this']=data_raw['fa_dine_this'].apply(lambda x: x.replace(',', '')).astype('float')\n",
        "data_raw['fa_dinu_this']=data_raw['fa_dinu_this'].apply(lambda x: x.replace(',', '')).astype('float')\n",
        "data_raw['ao_ad']=data_raw['ao_ad'].apply(lambda x: x.replace(',', '')).astype('float')\n",
        "data_raw['ao_adn']=data_raw['ao_adn'].apply(lambda x: x.replace(',', '')).astype('float')\n",
        "print(data_raw.head(5))"
      ],
      "execution_count": 0,
      "outputs": [
        {
          "output_type": "stream",
          "text": [
            "   ricf_oid  ba_ntr      ba_fdt    ba_fnd ba_evl       ao_ad  ao_adn  \\\n",
            "0      2288  非公募基金会  2011-07-04    200.00    未参评    379538.0     0.0   \n",
            "1      2256  非公募基金会  2001-06-01    220.00    未参评   6019570.2     0.0   \n",
            "2      1059  非公募基金会  2013-12-13    200.00    未参评      9200.0     0.0   \n",
            "3       379  非公募基金会  2007-06-21  2,000.00     1A  16793400.0     0.0   \n",
            "4       972  非公募基金会  2013-05-08    400.00    未参评    709826.9     0.0   \n",
            "\n",
            "   fa_dine_this  fa_dinu_this     fp_ntt_end      fp_tt_end  \n",
            "0           0.0      379538.0   2,877,634.44   3,218,571.02  \n",
            "1     1273789.3     4745780.9   4,351,660.63   5,822,354.13  \n",
            "2           0.0        9200.0   2,459,550.35   2,459,550.35  \n",
            "3    16793400.0           0.0  75,637,538.48  76,188,189.52  \n",
            "4           0.0      709826.9   4,865,096.85   4,865,096.86  \n"
          ],
          "name": "stdout"
        }
      ]
    },
    {
      "metadata": {
        "id": "sedEQJo7LtUK",
        "colab_type": "code",
        "colab": {}
      },
      "cell_type": "code",
      "source": [
        "# doi_1= donation income of 2016\n",
        "data_raw[\"doi_1\"]=data_raw[\"fa_dine_this\"]+data_raw[\"fa_dinu_this\"]\n",
        "data_raw"
      ],
      "execution_count": 0,
      "outputs": []
    },
    {
      "metadata": {
        "id": "srGRjuHGL9xN",
        "colab_type": "code",
        "colab": {}
      },
      "cell_type": "code",
      "source": [
        "# doi_2= donation income of 2016\n",
        "data_raw[\"doi_2\"]=data_raw[\"ao_ad\"]+data_raw[\"ao_adn\"]\n",
        "data_raw"
      ],
      "execution_count": 0,
      "outputs": []
    },
    {
      "metadata": {
        "id": "zurTiOuUMdIL",
        "colab_type": "code",
        "colab": {}
      },
      "cell_type": "code",
      "source": [
        "# cleaning \n",
        "data_raw.ba_ntr.fillna('None')\n",
        "data_raw.ao_ad.fillna('None')\n",
        "data_raw.ao_adn.fillna('None')\n",
        "data_raw.fa_dine_this.fillna('None')\n",
        "data_raw.fa_dinu_this.fillna('None')\n",
        "data_raw=data_raw.dropna()\n",
        "print(data_raw.head(5))"
      ],
      "execution_count": 0,
      "outputs": []
    },
    {
      "metadata": {
        "id": "QOqndz4hotn3",
        "colab_type": "code",
        "colab": {}
      },
      "cell_type": "code",
      "source": [
        "# cleaning fp_ntt_end and fp_tt_end\n",
        "data_raw=data_raw[ ~ data_raw['fp_tt_end'].str.contains('单位：人民币元') ]\n",
        "data_raw['fp_ntt_end']=data_raw['fp_ntt_end'].apply(lambda x: x.replace(',', '')).astype('float')\n",
        "data_raw['fp_tt_end']=data_raw['fp_tt_end'].apply(lambda x: x.replace(',', '')).astype('float')\n"
      ],
      "execution_count": 0,
      "outputs": []
    },
    {
      "metadata": {
        "id": "glIOCOd7ozW0",
        "colab_type": "code",
        "colab": {}
      },
      "cell_type": "code",
      "source": [
        "# cleaning ba_fnd ,转换单位为元\n",
        "data_raw.ba_fnd.str.contains('万元')\n",
        "data_raw['ba_fnd']=data_raw['ba_fnd'].apply(lambda x: x.replace(',', '')).astype('float')\n",
        "data_raw['ba_fnd_r']=data_raw['ba_fnd']*10000\n",
        "data_raw"
      ],
      "execution_count": 0,
      "outputs": []
    },
    {
      "metadata": {
        "id": "oPJPVthwPrJP",
        "colab_type": "code",
        "colab": {}
      },
      "cell_type": "code",
      "source": [
        "# coding ba_ntr\n",
        "data_raw=data_raw.replace('公募基金会',0)\n",
        "data_raw1=data_raw.replace('非公募基金会',1)\n",
        "data_raw1"
      ],
      "execution_count": 0,
      "outputs": []
    },
    {
      "metadata": {
        "id": "CODH6qv1qIsb",
        "colab_type": "code",
        "colab": {}
      },
      "cell_type": "code",
      "source": [
        "data_raw1.info()"
      ],
      "execution_count": 0,
      "outputs": []
    },
    {
      "metadata": {
        "id": "KTGMzVzfbUP9",
        "colab_type": "code",
        "colab": {}
      },
      "cell_type": "code",
      "source": [
        "# cleaning ba_fdt\n",
        "\n",
        "data_raw1['ba_fdt_y']=data_raw1['ba_fdt'].str[0:4]\n",
        "data_raw2=data_raw1[ ~ data_raw1['ba_fdt_y'].str.contains('发起人') ]\n",
        "data_raw2['ba_fdt_y']=data_raw2['ba_fdt_y'].astype('float')\n",
        "data_raw2"
      ],
      "execution_count": 0,
      "outputs": []
    },
    {
      "metadata": {
        "id": "hZZn-G2DyoPt",
        "colab_type": "code",
        "colab": {}
      },
      "cell_type": "code",
      "source": [
        "data_raw2['ba_fdt_o']=2017-data_raw2['ba_fdt_y']\n",
        "data_clean=data_raw2\n",
        "data_clean.to_csv('data_clean.csv')\n",
        "data_clean.info()"
      ],
      "execution_count": 0,
      "outputs": []
    },
    {
      "metadata": {
        "id": "fSruKeoXAk9M",
        "colab_type": "code",
        "colab": {}
      },
      "cell_type": "code",
      "source": [
        "data_clean.dtypes\n"
      ],
      "execution_count": 0,
      "outputs": []
    },
    {
      "metadata": {
        "id": "TOIX8cemVrdK",
        "colab_type": "text"
      },
      "cell_type": "markdown",
      "source": [
        "## 7. Data analysis"
      ]
    },
    {
      "metadata": {
        "id": "96GXY_x2D6J5",
        "colab_type": "code",
        "colab": {}
      },
      "cell_type": "code",
      "source": [
        "data_analysis=data_clean[['ricf_oid','ba_ntr','doi_1','ba_fdt_o','ba_fnd_r']]\n",
        "data_analysis\n",
        "data_analysis.to_csv('data_analysis.csv')"
      ],
      "execution_count": 0,
      "outputs": []
    },
    {
      "metadata": {
        "id": "Cg4RzKjjD_bT",
        "colab_type": "code",
        "outputId": "4abdafa2-ddd9-4d3d-8841-d61b7133fefe",
        "colab": {
          "base_uri": "https://localhost:8080/",
          "height": 204
        }
      },
      "cell_type": "code",
      "source": [
        "df=data_analysis.corr(method='spearman')\n",
        "df"
      ],
      "execution_count": 0,
      "outputs": [
        {
          "output_type": "execute_result",
          "data": {
            "text/html": [
              "<div>\n",
              "<style scoped>\n",
              "    .dataframe tbody tr th:only-of-type {\n",
              "        vertical-align: middle;\n",
              "    }\n",
              "\n",
              "    .dataframe tbody tr th {\n",
              "        vertical-align: top;\n",
              "    }\n",
              "\n",
              "    .dataframe thead th {\n",
              "        text-align: right;\n",
              "    }\n",
              "</style>\n",
              "<table border=\"1\" class=\"dataframe\">\n",
              "  <thead>\n",
              "    <tr style=\"text-align: right;\">\n",
              "      <th></th>\n",
              "      <th>ricf_oid</th>\n",
              "      <th>ba_ntr</th>\n",
              "      <th>doi_1</th>\n",
              "      <th>ba_fdt_o</th>\n",
              "      <th>ba_fnd_r</th>\n",
              "    </tr>\n",
              "  </thead>\n",
              "  <tbody>\n",
              "    <tr>\n",
              "      <th>ricf_oid</th>\n",
              "      <td>1.000000</td>\n",
              "      <td>0.289898</td>\n",
              "      <td>-0.082209</td>\n",
              "      <td>-0.707322</td>\n",
              "      <td>-0.284287</td>\n",
              "    </tr>\n",
              "    <tr>\n",
              "      <th>ba_ntr</th>\n",
              "      <td>0.289898</td>\n",
              "      <td>1.000000</td>\n",
              "      <td>-0.130568</td>\n",
              "      <td>-0.477681</td>\n",
              "      <td>-0.476159</td>\n",
              "    </tr>\n",
              "    <tr>\n",
              "      <th>doi_1</th>\n",
              "      <td>-0.082209</td>\n",
              "      <td>-0.130568</td>\n",
              "      <td>1.000000</td>\n",
              "      <td>0.103680</td>\n",
              "      <td>0.261800</td>\n",
              "    </tr>\n",
              "    <tr>\n",
              "      <th>ba_fdt_o</th>\n",
              "      <td>-0.707322</td>\n",
              "      <td>-0.477681</td>\n",
              "      <td>0.103680</td>\n",
              "      <td>1.000000</td>\n",
              "      <td>0.332886</td>\n",
              "    </tr>\n",
              "    <tr>\n",
              "      <th>ba_fnd_r</th>\n",
              "      <td>-0.284287</td>\n",
              "      <td>-0.476159</td>\n",
              "      <td>0.261800</td>\n",
              "      <td>0.332886</td>\n",
              "      <td>1.000000</td>\n",
              "    </tr>\n",
              "  </tbody>\n",
              "</table>\n",
              "</div>"
            ],
            "text/plain": [
              "          ricf_oid    ba_ntr     doi_1  ba_fdt_o  ba_fnd_r\n",
              "ricf_oid  1.000000  0.289898 -0.082209 -0.707322 -0.284287\n",
              "ba_ntr    0.289898  1.000000 -0.130568 -0.477681 -0.476159\n",
              "doi_1    -0.082209 -0.130568  1.000000  0.103680  0.261800\n",
              "ba_fdt_o -0.707322 -0.477681  0.103680  1.000000  0.332886\n",
              "ba_fnd_r -0.284287 -0.476159  0.261800  0.332886  1.000000"
            ]
          },
          "metadata": {
            "tags": []
          },
          "execution_count": 37
        }
      ]
    },
    {
      "metadata": {
        "id": "Rw65_fPQVzpG",
        "colab_type": "text"
      },
      "cell_type": "markdown",
      "source": [
        "## 8. Conclusion and discussion"
      ]
    },
    {
      "metadata": {
        "id": "7g2Iz5-2G0rA",
        "colab_type": "text"
      },
      "cell_type": "markdown",
      "source": [
        "The foundation' s type and donation income have correlationship, the correlation coefficient R= --0.130568. I also found that foundation's type have correlationship with founding year and intial fund."
      ]
    }
  ]
}