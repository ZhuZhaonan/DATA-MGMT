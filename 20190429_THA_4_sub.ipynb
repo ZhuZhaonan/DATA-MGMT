{
  "nbformat": 4,
  "nbformat_minor": 0,
  "metadata": {
    "colab": {
      "name": "20190429_THA_4_sub.ipynb",
      "version": "0.3.2",
      "provenance": [],
      "toc_visible": true,
      "include_colab_link": true
    },
    "kernelspec": {
      "name": "python3",
      "display_name": "Python 3"
    }
  },
  "cells": [
    {
      "cell_type": "markdown",
      "metadata": {
        "id": "view-in-github",
        "colab_type": "text"
      },
      "source": [
        "<a href=\"https://colab.research.google.com/github/ZhuZhaonan/DATA-MGMT/blob/master/20190429_THA_4_sub.ipynb\" target=\"_parent\"><img src=\"https://colab.research.google.com/assets/colab-badge.svg\" alt=\"Open In Colab\"/></a>"
      ]
    },
    {
      "metadata": {
        "id": "EoUexdfN2nl6",
        "colab_type": "text"
      },
      "cell_type": "markdown",
      "source": [
        "# THA4: Research operationalization and workflow.\n",
        "\n",
        ">  1. The same requirements as THA3 but with a different research question and dataset.\n",
        "\n",
        "> 2.  Build a workflow showing all important phases/components of your work.\n",
        "\n",
        "> 3.  Update your GitHub repository accordingly."
      ]
    },
    {
      "metadata": {
        "id": "1a3bKQZmNGgj",
        "colab_type": "text"
      },
      "cell_type": "markdown",
      "source": [
        "## 1. Research question: foundation type and donation income\n",
        "\n",
        "I want to find out the relationship between foundation's type ( public foundation, private foundation)and its donation income in China. In general, schalors think public foundation could get more donation than private foundation, however, empirical studies on this topic are limit. My research question are as follow: \n",
        "\n",
        "* Whether foundation type and donation income have corelation relationship. "
      ]
    },
    {
      "metadata": {
        "id": "BXg9YfH4QUqV",
        "colab_type": "text"
      },
      "cell_type": "markdown",
      "source": [
        "## 2. Data Source: RICF\n",
        "I will use 2016 annual report's data in RICF, which is the lastest data of China's foundation. In order to answer my question, I will merge four dataset as following:\n",
        "\n",
        "Basic information: https://github.com/ma-ji/RICF/raw/master/2016/2016_basic.tsv\n",
        "\n",
        "Financial_activities: https://raw.githubusercontent.com/ma-ji/RICF/master/2016/2016_financial_activities.tsv\n",
        "\n",
        "Activities overview : https://github.com/ma-ji/RICF/blob/master/2016/2016_activities_overview.tsv\n",
        "\n",
        "Financial position: https://raw.githubusercontent.com/ma-ji/RICF/master/2016/2016_financial_position.tsv\n",
        "\n",
        "Dictionary: \n",
        "\n"
      ]
    },
    {
      "metadata": {
        "id": "hkI3s8dDRvjF",
        "colab_type": "text"
      },
      "cell_type": "markdown",
      "source": [
        "##3.  Work Flow"
      ]
    },
    {
      "metadata": {
        "id": "LUZObLL_7_M3",
        "colab_type": "code",
        "outputId": "5bff3e1d-de03-4821-805a-2eabcd3b0f0c",
        "colab": {
          "base_uri": "https://localhost:8080/",
          "height": 34
        }
      },
      "cell_type": "code",
      "source": [
        "from IPython.display import Image\n",
        "Image('https://github.com/ZhuZhaonan/DATA-MGMT/blob/master/THA/THA_4/THA_4_workflow.jpg')"
      ],
      "execution_count": 0,
      "outputs": [
        {
          "output_type": "execute_result",
          "data": {
            "image/jpeg": "\n\n\n\n\n\n<!DOCTYPE html>\n<html lang=\"en\">\n  <head>\n    <meta charset=\"utf-8\">\n  <link rel=\"dns-prefetch\" href=\"https://github.githubassets.com\">\n  <link rel=\"dns-prefetch\" href=\"https://avatars0.githubusercontent.com\">\n  <link rel=\"dns-prefetch\" href=\"https://avatars1.githubusercontent.com\">\n  <link rel=\"dns-prefetch\" href=\"https://avatars2.githubusercontent.com\">\n  <link rel=\"dns-prefetch\" href=\"https://avatars3.githubusercontent.com\">\n  <link rel=\"dns-prefetch\" href=\"https://github-cloud.s3.amazonaws.com\">\n  <link rel=\"dns-prefetch\" href=\"https://user-images.githubusercontent.com/\">\n\n\n\n  <link crossorigin=\"anonymous\" media=\"all\" integrity=\"sha512-iwkZZWcsyMNnn/6c9v2ab3e7h4ZiFTOEZ9R6jj75bN9JzYuYjQ/AC7ufEcfpqd4GcTwcM+p2OhPzRSyeKL7NMQ==\" rel=\"stylesheet\" href=\"https://github.githubassets.com/assets/frameworks-f331a618befc2bf99be870c538f9ac95.css\" />\n  <link crossorigin=\"anonymous\" media=\"all\" integrity=\"sha512-cNSmDJd2vJZ5aluOBlLP6oTxa7tvVIc54LZk60zATiwTzs+aicoVb3r8TgU/1eiz2s6Nd4yPb7b1LxilONyJOg==\" rel=\"stylesheet\" href=\"https://github.githubassets.com/assets/site-7d7d47ab5852bb08d1180249a6c36bf5.css\" />\n    <link crossorigin=\"anonymous\" media=\"all\" integrity=\"sha512-QEjhQq2LM0NAPBU2adneVk0vC2+OjYiiMqhsxHmaIxn4SvVESgzQDdix0tUE+gm+qumiJ7BAH8+gDUiGQ5A66Q==\" rel=\"stylesheet\" href=\"https://github.githubassets.com/assets/github-d3d2f25c62d46b5c1c9c47d58f37d1c0.css\" />\n    \n    \n    \n    \n\n  <meta name=\"viewport\" content=\"width=device-width\">\n  \n  <title>DATA-MGMT/THA_4_workflow.jpg at master · ZhuZhaonan/DATA-MGMT · GitHub</title>\n    <meta name=\"description\" content=\"Contribute to ZhuZhaonan/DATA-MGMT development by creating an account on GitHub.\">\n    <link rel=\"search\" type=\"application/opensearchdescription+xml\" href=\"/opensearch.xml\" title=\"GitHub\">\n  <link rel=\"fluid-icon\" href=\"https://github.com/fluidicon.png\" title=\"GitHub\">\n  <meta property=\"fb:app_id\" content=\"1401488693436528\">\n\n    <meta name=\"twitter:image:src\" content=\"https://avatars1.githubusercontent.com/u/47534870?s=400&amp;v=4\" /><meta name=\"twitter:site\" content=\"@github\" /><meta name=\"twitter:card\" content=\"summary\" /><meta name=\"twitter:title\" content=\"ZhuZhaonan/DATA-MGMT\" /><meta name=\"twitter:description\" content=\"Contribute to ZhuZhaonan/DATA-MGMT development by creating an account on GitHub.\" />\n    <meta property=\"og:image\" content=\"https://avatars1.githubusercontent.com/u/47534870?s=400&amp;v=4\" /><meta property=\"og:site_name\" content=\"GitHub\" /><meta property=\"og:type\" content=\"object\" /><meta property=\"og:title\" content=\"ZhuZhaonan/DATA-MGMT\" /><meta property=\"og:url\" content=\"https://github.com/ZhuZhaonan/DATA-MGMT\" /><meta property=\"og:description\" content=\"Contribute to ZhuZhaonan/DATA-MGMT development by creating an account on GitHub.\" />\n\n  <link rel=\"assets\" href=\"https://github.githubassets.com/\">\n  \n  <meta name=\"pjax-timeout\" content=\"1000\">\n  \n  <meta name=\"request-id\" content=\"EAEE:6DE0:8F7F:112B2:5CC72BA7\" data-pjax-transient>\n\n\n  \n\n  <meta name=\"selected-link\" value=\"repo_source\" data-pjax-transient>\n\n      <meta name=\"google-site-verification\" content=\"KT5gs8h0wvaagLKAVWq8bbeNwnZZK1r1XQysX3xurLU\">\n    <meta name=\"google-site-verification\" content=\"ZzhVyEFwb7w3e0-uOTltm8Jsck2F5StVihD0exw2fsA\">\n    <meta name=\"google-site-verification\" content=\"GXs5KoUUkNCoaAZn7wPN-t01Pywp9M3sEjnt_3_ZWPc\">\n\n  <meta name=\"octolytics-host\" content=\"collector.githubapp.com\" /><meta name=\"octolytics-app-id\" content=\"github\" /><meta name=\"octolytics-event-url\" content=\"https://collector.githubapp.com/github-external/browser_event\" /><meta name=\"octolytics-dimension-request_id\" content=\"EAEE:6DE0:8F7F:112B2:5CC72BA7\" /><meta name=\"octolytics-dimension-region_edge\" content=\"iad\" /><meta name=\"octolytics-dimension-region_render\" content=\"iad\" />\n<meta name=\"analytics-location\" content=\"/&lt;user-name&gt;/&lt;repo-name&gt;/blob/show\" data-pjax-transient=\"true\" />\n\n\n\n    <meta name=\"google-analytics\" content=\"UA-3769691-2\">\n\n\n<meta class=\"js-ga-set\" name=\"dimension1\" content=\"Logged Out\">\n\n\n\n  \n\n      <meta name=\"hostname\" content=\"github.com\">\n    <meta name=\"user-login\" content=\"\">\n\n      <meta name=\"expected-hostname\" content=\"github.com\">\n    <meta name=\"js-proxy-site-detection-payload\" content=\"ODA2ZjAzM2ExMTgxNTMxMzcxYmFlZDBkOGEzN2NkMDFmNWZlM2RhZTZlYjMyODg5NTEyZDFkMTMwNjgzZWFiOXx7InJlbW90ZV9hZGRyZXNzIjoiMzQuNzMuMTI0LjE1MCIsInJlcXVlc3RfaWQiOiJFQUVFOjZERTA6OEY3RjoxMTJCMjo1Q0M3MkJBNyIsInRpbWVzdGFtcCI6MTU1NjU1NjcxMSwiaG9zdCI6ImdpdGh1Yi5jb20ifQ==\">\n\n    <meta name=\"enabled-features\" content=\"UNIVERSE_BANNER,MARKETPLACE_INVOICED_BILLING,MARKETPLACE_SOCIAL_PROOF_CUSTOMERS,MARKETPLACE_TRENDING_SOCIAL_PROOF,MARKETPLACE_RECOMMENDATIONS\">\n\n  <meta name=\"html-safe-nonce\" content=\"73a6b0a0e07d7dced3ddeb29cd6ec197e346ec03\">\n\n  <meta http-equiv=\"x-pjax-version\" content=\"aaee3ec1d7164b67950bbfed42dbef6f\">\n  \n\n      <link href=\"https://github.com/ZhuZhaonan/DATA-MGMT/commits/master.atom\" rel=\"alternate\" title=\"Recent Commits to DATA-MGMT:master\" type=\"application/atom+xml\">\n\n  <meta name=\"go-import\" content=\"github.com/ZhuZhaonan/DATA-MGMT git https://github.com/ZhuZhaonan/DATA-MGMT.git\">\n\n  <meta name=\"octolytics-dimension-user_id\" content=\"47534870\" /><meta name=\"octolytics-dimension-user_login\" content=\"ZhuZhaonan\" /><meta name=\"octolytics-dimension-repository_id\" content=\"173347804\" /><meta name=\"octolytics-dimension-repository_nwo\" content=\"ZhuZhaonan/DATA-MGMT\" /><meta name=\"octolytics-dimension-repository_public\" content=\"true\" /><meta name=\"octolytics-dimension-repository_is_fork\" content=\"false\" /><meta name=\"octolytics-dimension-repository_network_root_id\" content=\"173347804\" /><meta name=\"octolytics-dimension-repository_network_root_nwo\" content=\"ZhuZhaonan/DATA-MGMT\" /><meta name=\"octolytics-dimension-repository_explore_github_marketplace_ci_cta_shown\" content=\"false\" />\n\n\n    <link rel=\"canonical\" href=\"https://github.com/ZhuZhaonan/DATA-MGMT/blob/master/THA/THA_4/THA_4_workflow.jpg\" data-pjax-transient>\n\n\n  <meta name=\"browser-stats-url\" content=\"https://api.github.com/_private/browser/stats\">\n\n  <meta name=\"browser-errors-url\" content=\"https://api.github.com/_private/browser/errors\">\n\n  <link rel=\"mask-icon\" href=\"https://github.githubassets.com/pinned-octocat.svg\" color=\"#000000\">\n  <link rel=\"icon\" type=\"image/x-icon\" class=\"js-site-favicon\" href=\"https://github.githubassets.com/favicon.ico\">\n\n<meta name=\"theme-color\" content=\"#1e2327\">\n\n\n\n\n\n  <link rel=\"manifest\" href=\"/manifest.json\" crossOrigin=\"use-credentials\">\n\n  </head>\n\n  <body class=\"logged-out env-production page-blob\">\n    \n\n  <div class=\"position-relative js-header-wrapper \">\n    <a href=\"#start-of-content\" tabindex=\"1\" class=\"px-2 py-4 bg-blue text-white show-on-focus js-skip-to-content\">Skip to content</a>\n    <div id=\"js-pjax-loader-bar\" class=\"pjax-loader-bar\"><div class=\"progress\"></div></div>\n\n    \n    \n    \n\n\n        <header class=\"Header-old header-logged-out  position-relative f4 py-2\" role=\"banner\">\n  <div class=\"container-lg d-flex px-3\">\n    <div class=\"d-flex flex-justify-between flex-items-center\">\n        <a class=\"mr-4\" href=\"https://github.com/\" aria-label=\"Homepage\" data-ga-click=\"(Logged out) Header, go to homepage, icon:logo-wordmark\">\n          <svg height=\"32\" class=\"octicon octicon-mark-github text-white\" viewBox=\"0 0 16 16\" version=\"1.1\" width=\"32\" aria-hidden=\"true\"><path fill-rule=\"evenodd\" d=\"M8 0C3.58 0 0 3.58 0 8c0 3.54 2.29 6.53 5.47 7.59.4.07.55-.17.55-.38 0-.19-.01-.82-.01-1.49-2.01.37-2.53-.49-2.69-.94-.09-.23-.48-.94-.82-1.13-.28-.15-.68-.52-.01-.53.63-.01 1.08.58 1.23.82.72 1.21 1.87.87 2.33.66.07-.52.28-.87.51-1.07-1.78-.2-3.64-.89-3.64-3.95 0-.87.31-1.59.82-2.15-.08-.2-.36-1.02.08-2.12 0 0 .67-.21 2.2.82.64-.18 1.32-.27 2-.27.68 0 1.36.09 2 .27 1.53-1.04 2.2-.82 2.2-.82.44 1.1.16 1.92.08 2.12.51.56.82 1.27.82 2.15 0 3.07-1.87 3.75-3.65 3.95.29.25.54.73.54 1.48 0 1.07-.01 1.93-.01 2.2 0 .21.15.46.55.38A8.013 8.013 0 0 0 16 8c0-4.42-3.58-8-8-8z\"/></svg>\n        </a>\n    </div>\n\n    <div class=\"HeaderMenu HeaderMenu--logged-out d-flex flex-justify-between flex-items-center flex-auto\">\n      <div class=\"d-none\">\n        <button class=\"btn-link js-details-target\" type=\"button\" aria-label=\"Toggle navigation\" aria-expanded=\"false\">\n          <svg height=\"24\" class=\"octicon octicon-x text-gray\" viewBox=\"0 0 12 16\" version=\"1.1\" width=\"18\" aria-hidden=\"true\"><path fill-rule=\"evenodd\" d=\"M7.48 8l3.75 3.75-1.48 1.48L6 9.48l-3.75 3.75-1.48-1.48L4.52 8 .77 4.25l1.48-1.48L6 6.52l3.75-3.75 1.48 1.48L7.48 8z\"/></svg>\n        </button>\n      </div>\n\n        <nav class=\"mt-0\" aria-label=\"Global\">\n          <ul class=\"d-flex list-style-none\">\n              <li class=\" mr-3 mr-lg-3 edge-item-fix position-relative flex-wrap flex-justify-between d-flex flex-items-center \">\n                <details class=\"HeaderMenu-details details-overlay details-reset width-full\">\n                  <summary class=\"HeaderMenu-summary HeaderMenu-link px-0 py-3 border-0 no-wrap  d-inline-block\">\n                    Why GitHub?\n                    <svg x=\"0px\" y=\"0px\" viewBox=\"0 0 14 8\" xml:space=\"preserve\" fill=\"none\" class=\"icon-chevon-down-mktg position-relative\">\n                      <path d=\"M1,1l6.2,6L13,1\"></path>\n                    </svg>\n                  </summary>\n                  <div class=\"dropdown-menu flex-auto rounded-1 bg-white px-0 mt-0  p-4 left-n4 position-absolute\">\n                    <a href=\"/features\" class=\"py-2 lh-condensed-ultra d-block link-gray-dark no-underline h5 Bump-link--hover\" data-ga-click=\"(Logged out) Header, go to Features\">Features <span class=\"Bump-link-symbol float-right text-normal text-gray-light\">&rarr;</span></a>\n                    <ul class=\"list-style-none f5 pb-3\">\n                      <li class=\"edge-item-fix\"><a href=\"/features/code-review/\" class=\"py-2 lh-condensed-ultra d-block link-gray no-underline f5\" data-ga-click=\"(Logged out) Header, go to Code review\">Code review</a></li>\n                      <li class=\"edge-item-fix\"><a href=\"/features/project-management/\" class=\"py-2 lh-condensed-ultra d-block link-gray no-underline f5\" data-ga-click=\"(Logged out) Header, go to Project management\">Project management</a></li>\n                      <li class=\"edge-item-fix\"><a href=\"/features/integrations\" class=\"py-2 lh-condensed-ultra d-block link-gray no-underline f5\" data-ga-click=\"(Logged out) Header, go to Integrations\">Integrations</a></li>\n                      <li class=\"edge-item-fix\"><a href=\"/features/actions\" class=\"py-2 lh-condensed-ultra d-block link-gray no-underline f5\" data-ga-click=\"(Logged out) Header, go to Actions\">Actions</a>\n                      <li class=\"edge-item-fix\"><a href=\"/features#team-management\" class=\"py-2 lh-condensed-ultra d-block link-gray no-underline f5\" data-ga-click=\"(Logged out) Header, go to Team management\">Team management</a></li>\n                      <li class=\"edge-item-fix\"><a href=\"/features#social-coding\" class=\"py-2 lh-condensed-ultra d-block link-gray no-underline f5\" data-ga-click=\"(Logged out) Header, go to Social coding\">Social coding</a></li>\n                      <li class=\"edge-item-fix\"><a href=\"/features#documentation\" class=\"py-2 lh-condensed-ultra d-block link-gray no-underline f5\" data-ga-click=\"(Logged out) Header, go to Documentation\">Documentation</a></li>\n                      <li class=\"edge-item-fix\"><a href=\"/features#code-hosting\" class=\"py-2 lh-condensed-ultra d-block link-gray no-underline f5\" data-ga-click=\"(Logged out) Header, go to Code hosting\">Code hosting</a></li>\n                    </ul>\n\n                    <ul class=\"list-style-none mb-0 border-lg-top pt-lg-3\">\n                      <li class=\"edge-item-fix\"><a href=\"/customer-stories\" class=\"py-2 lh-condensed-ultra d-block no-underline link-gray-dark no-underline h5 Bump-link--hover\" data-ga-click=\"(Logged out) Header, go to Customer stories\">Customer stories <span class=\"Bump-link-symbol float-right text-normal text-gray-light\">&rarr;</span></a></li>\n                      <li class=\"edge-item-fix\"><a href=\"/security\" class=\"py-2 lh-condensed-ultra d-block no-underline link-gray-dark no-underline h5 Bump-link--hover\" data-ga-click=\"(Logged out) Header, go to Security\">Security <span class=\"Bump-link-symbol float-right text-normal text-gray-light\">&rarr;</span></a></li>\n                    </ul>\n                  </div>\n                </details>\n              </li>\n              <li class=\" mr-3 mr-lg-3\">\n                <a href=\"/enterprise\" class=\"HeaderMenu-link no-underline py-3 d-block d-lg-inline-block\" data-ga-click=\"(Logged out) Header, go to Enterprise\">Enterprise</a>\n              </li>\n\n              <li class=\" mr-3 mr-lg-3 edge-item-fix position-relative flex-wrap flex-justify-between d-flex flex-items-center \">\n                <details class=\"HeaderMenu-details details-overlay details-reset width-full\">\n                  <summary class=\"HeaderMenu-summary HeaderMenu-link px-0 py-3 border-0 no-wrap  d-inline-block\">\n                    Explore\n                    <svg x=\"0px\" y=\"0px\" viewBox=\"0 0 14 8\" xml:space=\"preserve\" fill=\"none\" class=\"icon-chevon-down-mktg position-relative\">\n                      <path d=\"M1,1l6.2,6L13,1\"></path>\n                    </svg>\n                  </summary>\n\n                  <div class=\"dropdown-menu flex-auto rounded-1 bg-white px-0 pt-2 pb-0 mt-0  p-4 left-n4 position-absolute\">\n                    <ul class=\"list-style-none mb-3\">\n                      <li class=\"edge-item-fix\"><a href=\"/explore\" class=\"py-2 lh-condensed-ultra d-block link-gray-dark no-underline h5 Bump-link--hover\" data-ga-click=\"(Logged out) Header, go to Explore\">Explore GitHub <span class=\"Bump-link-symbol float-right text-normal text-gray-light\">&rarr;</span></a></li>\n                    </ul>\n\n                    <h4 class=\"text-gray-light text-normal text-mono f5 mb-2  border-top pt-3\">Learn &amp; contribute</h4>\n                    <ul class=\"list-style-none mb-3\">\n                      <li class=\"edge-item-fix\"><a href=\"/topics\" class=\"py-2 lh-condensed-ultra d-block link-gray no-underline f5\" data-ga-click=\"(Logged out) Header, go to Topics\">Topics</a></li>\n                        <li class=\"edge-item-fix\"><a href=\"/collections\" class=\"py-2 lh-condensed-ultra d-block link-gray no-underline f5\" data-ga-click=\"(Logged out) Header, go to Collections\">Collections</a></li>\n                      <li class=\"edge-item-fix\"><a href=\"/trending\" class=\"py-2 lh-condensed-ultra d-block link-gray no-underline f5\" data-ga-click=\"(Logged out) Header, go to Trending\">Trending</a></li>\n                      <li class=\"edge-item-fix\"><a href=\"https://lab.github.com/\" class=\"py-2 lh-condensed-ultra d-block link-gray no-underline f5\" data-ga-click=\"(Logged out) Header, go to Learning lab\">Learning Lab</a></li>\n                      <li class=\"edge-item-fix\"><a href=\"https://opensource.guide\" class=\"py-2 lh-condensed-ultra d-block link-gray no-underline f5\" data-ga-click=\"(Logged out) Header, go to Open source guides\">Open source guides</a></li>\n                    </ul>\n\n                    <h4 class=\"text-gray-light text-normal text-mono f5 mb-2  border-top pt-3\">Connect with others</h4>\n                    <ul class=\"list-style-none mb-0\">\n                      <li class=\"edge-item-fix\"><a href=\"https://github.com/events\" class=\"py-2 lh-condensed-ultra d-block link-gray no-underline f5\" data-ga-click=\"(Logged out) Header, go to Events\">Events</a></li>\n                      <li class=\"edge-item-fix\"><a href=\"https://github.community\" class=\"py-2 lh-condensed-ultra d-block link-gray no-underline f5\" data-ga-click=\"(Logged out) Header, go to Community forum\">Community forum</a></li>\n                      <li class=\"edge-item-fix\"><a href=\"https://education.github.com\" class=\"py-2 pb-0 lh-condensed-ultra d-block link-gray no-underline f5\" data-ga-click=\"(Logged out) Header, go to GitHub Education\">GitHub Education</a></li>\n                    </ul>\n                  </div>\n                </details>\n              </li>\n\n              <li class=\" mr-3 mr-lg-3\">\n                <a href=\"/marketplace\" class=\"HeaderMenu-link no-underline py-3 d-block d-lg-inline-block\" data-ga-click=\"(Logged out) Header, go to Marketplace\">Marketplace</a>\n              </li>\n\n              <li class=\" mr-3 mr-lg-3 edge-item-fix position-relative flex-wrap flex-justify-between d-flex flex-items-center \">\n                <details class=\"HeaderMenu-details details-overlay details-reset width-full\">\n                  <summary class=\"HeaderMenu-summary HeaderMenu-link px-0 py-3 border-0 no-wrap  d-inline-block\">\n                    Pricing\n                    <svg x=\"0px\" y=\"0px\" viewBox=\"0 0 14 8\" xml:space=\"preserve\" fill=\"none\" class=\"icon-chevon-down-mktg position-relative\">\n                       <path d=\"M1,1l6.2,6L13,1\"></path>\n                    </svg>\n                  </summary>\n\n                  <div class=\"dropdown-menu flex-auto rounded-1 bg-white px-0 pt-2 pb-4 mt-0  p-4 left-n4 position-absolute\">\n                    <a href=\"/pricing\" class=\"pb-2 lh-condensed-ultra d-block link-gray-dark no-underline h5 Bump-link--hover\" data-ga-click=\"(Logged out) Header, go to Pricing\">Plans <span class=\"Bump-link-symbol float-right text-normal text-gray-light\">&rarr;</span></a>\n\n                    <ul class=\"list-style-none mb-3\">\n                      <li class=\"edge-item-fix\"><a href=\"/pricing#feature-comparison\" class=\"py-2 lh-condensed-ultra d-block link-gray no-underline f5\" data-ga-click=\"(Logged out) Header, go to Compare plans\">Compare plans</a></li>\n                      <li class=\"edge-item-fix\"><a href=\"https://enterprise.github.com/contact\" class=\"py-2 lh-condensed-ultra d-block link-gray no-underline f5\" data-ga-click=\"(Logged out) Header, go to Contact Sales\">Contact Sales</a></li>\n                    </ul>\n\n                    <ul class=\"list-style-none mb-0  border-top pt-3\">\n                      <li class=\"edge-item-fix\"><a href=\"/nonprofit\" class=\"py-2 lh-condensed-ultra d-block no-underline link-gray-dark no-underline h5 Bump-link--hover\" data-ga-click=\"(Logged out) Header, go to Nonprofits\">Nonprofit <span class=\"Bump-link-symbol float-right text-normal text-gray-light\">&rarr;</span></a></li>\n                      <li class=\"edge-item-fix\"><a href=\"https://education.github.com\" class=\"py-2 pb-0 lh-condensed-ultra d-block no-underline link-gray-dark no-underline h5 Bump-link--hover\"  data-ga-click=\"(Logged out) Header, go to Education\">Education <span class=\"Bump-link-symbol float-right text-normal text-gray-light\">&rarr;</span></a></li>\n                    </ul>\n                  </div>\n                </details>\n              </li>\n          </ul>\n        </nav>\n\n      <div class=\"d-flex flex-items-center px-0 text-center text-left\">\n          <div class=\"d-lg-flex \">\n            <div class=\"header-search mr-3 scoped-search site-scoped-search js-site-search position-relative js-jump-to\"\n  role=\"combobox\"\n  aria-owns=\"jump-to-results\"\n  aria-label=\"Search or jump to\"\n  aria-haspopup=\"listbox\"\n  aria-expanded=\"false\"\n>\n  <div class=\"position-relative\">\n    <!-- '\"` --><!-- </textarea></xmp> --></option></form><form class=\"js-site-search-form\" role=\"search\" aria-label=\"Site\" data-scope-type=\"Repository\" data-scope-id=\"173347804\" data-scoped-search-url=\"/ZhuZhaonan/DATA-MGMT/search\" data-unscoped-search-url=\"/search\" action=\"/ZhuZhaonan/DATA-MGMT/search\" accept-charset=\"UTF-8\" method=\"get\"><input name=\"utf8\" type=\"hidden\" value=\"&#x2713;\" />\n      <label class=\"form-control input-sm header-search-wrapper p-0 header-search-wrapper-jump-to position-relative d-flex flex-justify-between flex-items-center js-chromeless-input-container\">\n        <input type=\"text\"\n          class=\"form-control input-sm header-search-input jump-to-field js-jump-to-field js-site-search-focus js-site-search-field is-clearable\"\n          data-hotkey=\"s,/\"\n          name=\"q\"\n          value=\"\"\n          placeholder=\"Search\"\n          data-unscoped-placeholder=\"Search GitHub\"\n          data-scoped-placeholder=\"Search\"\n          autocapitalize=\"off\"\n          aria-autocomplete=\"list\"\n          aria-controls=\"jump-to-results\"\n          aria-label=\"Search\"\n          data-jump-to-suggestions-path=\"/_graphql/GetSuggestedNavigationDestinations#csrf-token=D8Hhj7RVyVXT7pUIXC9y+trXRc36Y8GEAOPEgfIR0+5qatbsHY3zcURhFIySlEayPIYGcW6aSaXFYhDG85GPeQ==\"\n          spellcheck=\"false\"\n          autocomplete=\"off\"\n          >\n          <input type=\"hidden\" class=\"js-site-search-type-field\" name=\"type\" >\n            <img src=\"https://github.githubassets.com/images/search-key-slash.svg\" alt=\"\" class=\"mr-2 header-search-key-slash\">\n\n            <div class=\"Box position-absolute overflow-hidden d-none jump-to-suggestions js-jump-to-suggestions-container\">\n              \n<ul class=\"d-none js-jump-to-suggestions-template-container\">\n  \n\n<li class=\"d-flex flex-justify-start flex-items-center p-0 f5 navigation-item js-navigation-item js-jump-to-suggestion\" role=\"option\">\n  <a tabindex=\"-1\" class=\"no-underline d-flex flex-auto flex-items-center jump-to-suggestions-path js-jump-to-suggestion-path js-navigation-open p-2\" href=\"\">\n    <div class=\"jump-to-octicon js-jump-to-octicon flex-shrink-0 mr-2 text-center d-none\">\n      <svg height=\"16\" width=\"16\" class=\"octicon octicon-repo flex-shrink-0 js-jump-to-octicon-repo d-none\" title=\"Repository\" aria-label=\"Repository\" viewBox=\"0 0 12 16\" version=\"1.1\" role=\"img\"><path fill-rule=\"evenodd\" d=\"M4 9H3V8h1v1zm0-3H3v1h1V6zm0-2H3v1h1V4zm0-2H3v1h1V2zm8-1v12c0 .55-.45 1-1 1H6v2l-1.5-1.5L3 16v-2H1c-.55 0-1-.45-1-1V1c0-.55.45-1 1-1h10c.55 0 1 .45 1 1zm-1 10H1v2h2v-1h3v1h5v-2zm0-10H2v9h9V1z\"/></svg>\n      <svg height=\"16\" width=\"16\" class=\"octicon octicon-project flex-shrink-0 js-jump-to-octicon-project d-none\" title=\"Project\" aria-label=\"Project\" viewBox=\"0 0 15 16\" version=\"1.1\" role=\"img\"><path fill-rule=\"evenodd\" d=\"M10 12h3V2h-3v10zm-4-2h3V2H6v8zm-4 4h3V2H2v12zm-1 1h13V1H1v14zM14 0H1a1 1 0 0 0-1 1v14a1 1 0 0 0 1 1h13a1 1 0 0 0 1-1V1a1 1 0 0 0-1-1z\"/></svg>\n      <svg height=\"16\" width=\"16\" class=\"octicon octicon-search flex-shrink-0 js-jump-to-octicon-search d-none\" title=\"Search\" aria-label=\"Search\" viewBox=\"0 0 16 16\" version=\"1.1\" role=\"img\"><path fill-rule=\"evenodd\" d=\"M15.7 13.3l-3.81-3.83A5.93 5.93 0 0 0 13 6c0-3.31-2.69-6-6-6S1 2.69 1 6s2.69 6 6 6c1.3 0 2.48-.41 3.47-1.11l3.83 3.81c.19.2.45.3.7.3.25 0 .52-.09.7-.3a.996.996 0 0 0 0-1.41v.01zM7 10.7c-2.59 0-4.7-2.11-4.7-4.7 0-2.59 2.11-4.7 4.7-4.7 2.59 0 4.7 2.11 4.7 4.7 0 2.59-2.11 4.7-4.7 4.7z\"/></svg>\n    </div>\n\n    <img class=\"avatar mr-2 flex-shrink-0 js-jump-to-suggestion-avatar d-none\" alt=\"\" aria-label=\"Team\" src=\"\" width=\"28\" height=\"28\">\n\n    <div class=\"jump-to-suggestion-name js-jump-to-suggestion-name flex-auto overflow-hidden text-left no-wrap css-truncate css-truncate-target\">\n    </div>\n\n    <div class=\"border rounded-1 flex-shrink-0 bg-gray px-1 text-gray-light ml-1 f6 d-none js-jump-to-badge-search\">\n      <span class=\"js-jump-to-badge-search-text-default d-none\" aria-label=\"in this repository\">\n        In this repository\n      </span>\n      <span class=\"js-jump-to-badge-search-text-global d-none\" aria-label=\"in all of GitHub\">\n        All GitHub\n      </span>\n      <span aria-hidden=\"true\" class=\"d-inline-block ml-1 v-align-middle\">↵</span>\n    </div>\n\n    <div aria-hidden=\"true\" class=\"border rounded-1 flex-shrink-0 bg-gray px-1 text-gray-light ml-1 f6 d-none d-on-nav-focus js-jump-to-badge-jump\">\n      Jump to\n      <span class=\"d-inline-block ml-1 v-align-middle\">↵</span>\n    </div>\n  </a>\n</li>\n\n</ul>\n\n<ul class=\"d-none js-jump-to-no-results-template-container\">\n  <li class=\"d-flex flex-justify-center flex-items-center f5 d-none js-jump-to-suggestion p-2\">\n    <span class=\"text-gray\">No suggested jump to results</span>\n  </li>\n</ul>\n\n<ul id=\"jump-to-results\" role=\"listbox\" class=\"p-0 m-0 js-navigation-container jump-to-suggestions-results-container js-jump-to-suggestions-results-container\">\n  \n\n<li class=\"d-flex flex-justify-start flex-items-center p-0 f5 navigation-item js-navigation-item js-jump-to-scoped-search d-none\" role=\"option\">\n  <a tabindex=\"-1\" class=\"no-underline d-flex flex-auto flex-items-center jump-to-suggestions-path js-jump-to-suggestion-path js-navigation-open p-2\" href=\"\">\n    <div class=\"jump-to-octicon js-jump-to-octicon flex-shrink-0 mr-2 text-center d-none\">\n      <svg height=\"16\" width=\"16\" class=\"octicon octicon-repo flex-shrink-0 js-jump-to-octicon-repo d-none\" title=\"Repository\" aria-label=\"Repository\" viewBox=\"0 0 12 16\" version=\"1.1\" role=\"img\"><path fill-rule=\"evenodd\" d=\"M4 9H3V8h1v1zm0-3H3v1h1V6zm0-2H3v1h1V4zm0-2H3v1h1V2zm8-1v12c0 .55-.45 1-1 1H6v2l-1.5-1.5L3 16v-2H1c-.55 0-1-.45-1-1V1c0-.55.45-1 1-1h10c.55 0 1 .45 1 1zm-1 10H1v2h2v-1h3v1h5v-2zm0-10H2v9h9V1z\"/></svg>\n      <svg height=\"16\" width=\"16\" class=\"octicon octicon-project flex-shrink-0 js-jump-to-octicon-project d-none\" title=\"Project\" aria-label=\"Project\" viewBox=\"0 0 15 16\" version=\"1.1\" role=\"img\"><path fill-rule=\"evenodd\" d=\"M10 12h3V2h-3v10zm-4-2h3V2H6v8zm-4 4h3V2H2v12zm-1 1h13V1H1v14zM14 0H1a1 1 0 0 0-1 1v14a1 1 0 0 0 1 1h13a1 1 0 0 0 1-1V1a1 1 0 0 0-1-1z\"/></svg>\n      <svg height=\"16\" width=\"16\" class=\"octicon octicon-search flex-shrink-0 js-jump-to-octicon-search d-none\" title=\"Search\" aria-label=\"Search\" viewBox=\"0 0 16 16\" version=\"1.1\" role=\"img\"><path fill-rule=\"evenodd\" d=\"M15.7 13.3l-3.81-3.83A5.93 5.93 0 0 0 13 6c0-3.31-2.69-6-6-6S1 2.69 1 6s2.69 6 6 6c1.3 0 2.48-.41 3.47-1.11l3.83 3.81c.19.2.45.3.7.3.25 0 .52-.09.7-.3a.996.996 0 0 0 0-1.41v.01zM7 10.7c-2.59 0-4.7-2.11-4.7-4.7 0-2.59 2.11-4.7 4.7-4.7 2.59 0 4.7 2.11 4.7 4.7 0 2.59-2.11 4.7-4.7 4.7z\"/></svg>\n    </div>\n\n    <img class=\"avatar mr-2 flex-shrink-0 js-jump-to-suggestion-avatar d-none\" alt=\"\" aria-label=\"Team\" src=\"\" width=\"28\" height=\"28\">\n\n    <div class=\"jump-to-suggestion-name js-jump-to-suggestion-name flex-auto overflow-hidden text-left no-wrap css-truncate css-truncate-target\">\n    </div>\n\n    <div class=\"border rounded-1 flex-shrink-0 bg-gray px-1 text-gray-light ml-1 f6 d-none js-jump-to-badge-search\">\n      <span class=\"js-jump-to-badge-search-text-default d-none\" aria-label=\"in this repository\">\n        In this repository\n      </span>\n      <span class=\"js-jump-to-badge-search-text-global d-none\" aria-label=\"in all of GitHub\">\n        All GitHub\n      </span>\n      <span aria-hidden=\"true\" class=\"d-inline-block ml-1 v-align-middle\">↵</span>\n    </div>\n\n    <div aria-hidden=\"true\" class=\"border rounded-1 flex-shrink-0 bg-gray px-1 text-gray-light ml-1 f6 d-none d-on-nav-focus js-jump-to-badge-jump\">\n      Jump to\n      <span class=\"d-inline-block ml-1 v-align-middle\">↵</span>\n    </div>\n  </a>\n</li>\n\n  \n\n<li class=\"d-flex flex-justify-start flex-items-center p-0 f5 navigation-item js-navigation-item js-jump-to-global-search d-none\" role=\"option\">\n  <a tabindex=\"-1\" class=\"no-underline d-flex flex-auto flex-items-center jump-to-suggestions-path js-jump-to-suggestion-path js-navigation-open p-2\" href=\"\">\n    <div class=\"jump-to-octicon js-jump-to-octicon flex-shrink-0 mr-2 text-center d-none\">\n      <svg height=\"16\" width=\"16\" class=\"octicon octicon-repo flex-shrink-0 js-jump-to-octicon-repo d-none\" title=\"Repository\" aria-label=\"Repository\" viewBox=\"0 0 12 16\" version=\"1.1\" role=\"img\"><path fill-rule=\"evenodd\" d=\"M4 9H3V8h1v1zm0-3H3v1h1V6zm0-2H3v1h1V4zm0-2H3v1h1V2zm8-1v12c0 .55-.45 1-1 1H6v2l-1.5-1.5L3 16v-2H1c-.55 0-1-.45-1-1V1c0-.55.45-1 1-1h10c.55 0 1 .45 1 1zm-1 10H1v2h2v-1h3v1h5v-2zm0-10H2v9h9V1z\"/></svg>\n      <svg height=\"16\" width=\"16\" class=\"octicon octicon-project flex-shrink-0 js-jump-to-octicon-project d-none\" title=\"Project\" aria-label=\"Project\" viewBox=\"0 0 15 16\" version=\"1.1\" role=\"img\"><path fill-rule=\"evenodd\" d=\"M10 12h3V2h-3v10zm-4-2h3V2H6v8zm-4 4h3V2H2v12zm-1 1h13V1H1v14zM14 0H1a1 1 0 0 0-1 1v14a1 1 0 0 0 1 1h13a1 1 0 0 0 1-1V1a1 1 0 0 0-1-1z\"/></svg>\n      <svg height=\"16\" width=\"16\" class=\"octicon octicon-search flex-shrink-0 js-jump-to-octicon-search d-none\" title=\"Search\" aria-label=\"Search\" viewBox=\"0 0 16 16\" version=\"1.1\" role=\"img\"><path fill-rule=\"evenodd\" d=\"M15.7 13.3l-3.81-3.83A5.93 5.93 0 0 0 13 6c0-3.31-2.69-6-6-6S1 2.69 1 6s2.69 6 6 6c1.3 0 2.48-.41 3.47-1.11l3.83 3.81c.19.2.45.3.7.3.25 0 .52-.09.7-.3a.996.996 0 0 0 0-1.41v.01zM7 10.7c-2.59 0-4.7-2.11-4.7-4.7 0-2.59 2.11-4.7 4.7-4.7 2.59 0 4.7 2.11 4.7 4.7 0 2.59-2.11 4.7-4.7 4.7z\"/></svg>\n    </div>\n\n    <img class=\"avatar mr-2 flex-shrink-0 js-jump-to-suggestion-avatar d-none\" alt=\"\" aria-label=\"Team\" src=\"\" width=\"28\" height=\"28\">\n\n    <div class=\"jump-to-suggestion-name js-jump-to-suggestion-name flex-auto overflow-hidden text-left no-wrap css-truncate css-truncate-target\">\n    </div>\n\n    <div class=\"border rounded-1 flex-shrink-0 bg-gray px-1 text-gray-light ml-1 f6 d-none js-jump-to-badge-search\">\n      <span class=\"js-jump-to-badge-search-text-default d-none\" aria-label=\"in this repository\">\n        In this repository\n      </span>\n      <span class=\"js-jump-to-badge-search-text-global d-none\" aria-label=\"in all of GitHub\">\n        All GitHub\n      </span>\n      <span aria-hidden=\"true\" class=\"d-inline-block ml-1 v-align-middle\">↵</span>\n    </div>\n\n    <div aria-hidden=\"true\" class=\"border rounded-1 flex-shrink-0 bg-gray px-1 text-gray-light ml-1 f6 d-none d-on-nav-focus js-jump-to-badge-jump\">\n      Jump to\n      <span class=\"d-inline-block ml-1 v-align-middle\">↵</span>\n    </div>\n  </a>\n</li>\n\n\n</ul>\n\n            </div>\n      </label>\n</form>  </div>\n</div>\n\n          </div>\n\n        <a class=\"HeaderMenu-link no-underline mr-3\" data-hydro-click=\"{&quot;event_type&quot;:&quot;authentication.click&quot;,&quot;payload&quot;:{&quot;location_in_page&quot;:&quot;site header menu&quot;,&quot;repository_id&quot;:null,&quot;auth_type&quot;:&quot;LOG_IN&quot;,&quot;client_id&quot;:null,&quot;originating_request_id&quot;:&quot;EAEE:6DE0:8F7F:112B2:5CC72BA7&quot;,&quot;originating_url&quot;:&quot;https://github.com/ZhuZhaonan/DATA-MGMT/blob/master/THA/THA_4/THA_4_workflow.jpg&quot;,&quot;referrer&quot;:null,&quot;user_id&quot;:null}}\" data-hydro-click-hmac=\"6b784c6169485fb8a0d653c96c178bf607632cfbd739305343ff8577f5af7bd6\" data-ga-click=\"(Logged out) Header, clicked Sign in, text:sign-in\" href=\"/login?return_to=%2FZhuZhaonan%2FDATA-MGMT%2Fblob%2Fmaster%2FTHA%2FTHA_4%2FTHA_4_workflow.jpg\">\n          Sign&nbsp;in\n</a>          <a class=\"HeaderMenu-link d-inline-block no-underline border border-gray-dark rounded-1 px-2 py-1\" data-hydro-click=\"{&quot;event_type&quot;:&quot;authentication.click&quot;,&quot;payload&quot;:{&quot;location_in_page&quot;:&quot;site header menu&quot;,&quot;repository_id&quot;:null,&quot;auth_type&quot;:&quot;SIGN_UP&quot;,&quot;client_id&quot;:null,&quot;originating_request_id&quot;:&quot;EAEE:6DE0:8F7F:112B2:5CC72BA7&quot;,&quot;originating_url&quot;:&quot;https://github.com/ZhuZhaonan/DATA-MGMT/blob/master/THA/THA_4/THA_4_workflow.jpg&quot;,&quot;referrer&quot;:null,&quot;user_id&quot;:null}}\" data-hydro-click-hmac=\"9a845feda9cdf9e92de4e23fd7e95fe895cb85de00e51649d765f591dbeb6c3e\" data-ga-click=\"(Logged out) Header, clicked Sign up, text:sign-up\" href=\"/join\">\n            Sign&nbsp;up\n</a>      </div>\n    </div>\n  </div>\n</header>\n\n  </div>\n\n  <div id=\"start-of-content\" class=\"show-on-focus\"></div>\n\n\n    <div id=\"js-flash-container\">\n\n</div>\n\n\n\n  <div class=\"application-main \" data-commit-hovercards-enabled>\n        <div itemscope itemtype=\"http://schema.org/SoftwareSourceCode\" class=\"\">\n    <main id=\"js-repo-pjax-container\" data-pjax-container >\n      \n\n\n  \n\n\n\n\n\n\n  <div class=\"pagehead repohead instapaper_ignore readability-menu experiment-repo-nav  \">\n    <div class=\"repohead-details-container clearfix container\">\n\n      <ul class=\"pagehead-actions\">\n\n\n\n  <li>\n    \n  <a class=\"tooltipped tooltipped-s btn btn-sm btn-with-count\" aria-label=\"You must be signed in to watch a repository\" rel=\"nofollow\" data-hydro-click=\"{&quot;event_type&quot;:&quot;authentication.click&quot;,&quot;payload&quot;:{&quot;location_in_page&quot;:&quot;notification subscription menu watch&quot;,&quot;repository_id&quot;:null,&quot;auth_type&quot;:&quot;LOG_IN&quot;,&quot;client_id&quot;:null,&quot;originating_request_id&quot;:&quot;EAEE:6DE0:8F7F:112B2:5CC72BA7&quot;,&quot;originating_url&quot;:&quot;https://github.com/ZhuZhaonan/DATA-MGMT/blob/master/THA/THA_4/THA_4_workflow.jpg&quot;,&quot;referrer&quot;:null,&quot;user_id&quot;:null}}\" data-hydro-click-hmac=\"350d5678c56f66436dd8f54a5c6e763721cb1f8811a1f20688c931df1c1cbcd7\" href=\"/login?return_to=%2FZhuZhaonan%2FDATA-MGMT\">\n    <svg class=\"octicon octicon-eye v-align-text-bottom\" viewBox=\"0 0 16 16\" version=\"1.1\" width=\"16\" height=\"16\" aria-hidden=\"true\"><path fill-rule=\"evenodd\" d=\"M8.06 2C3 2 0 8 0 8s3 6 8.06 6C13 14 16 8 16 8s-3-6-7.94-6zM8 12c-2.2 0-4-1.78-4-4 0-2.2 1.8-4 4-4 2.22 0 4 1.8 4 4 0 2.22-1.78 4-4 4zm2-4c0 1.11-.89 2-2 2-1.11 0-2-.89-2-2 0-1.11.89-2 2-2 1.11 0 2 .89 2 2z\"/></svg>\n    Watch\n</a>    <a class=\"social-count\" href=\"/ZhuZhaonan/DATA-MGMT/watchers\"\n       aria-label=\"0 users are watching this repository\">\n      0\n    </a>\n\n  </li>\n\n  <li>\n        <a class=\"btn btn-sm btn-with-count tooltipped tooltipped-s\" aria-label=\"You must be signed in to star a repository\" rel=\"nofollow\" data-hydro-click=\"{&quot;event_type&quot;:&quot;authentication.click&quot;,&quot;payload&quot;:{&quot;location_in_page&quot;:&quot;star button&quot;,&quot;repository_id&quot;:173347804,&quot;auth_type&quot;:&quot;LOG_IN&quot;,&quot;client_id&quot;:null,&quot;originating_request_id&quot;:&quot;EAEE:6DE0:8F7F:112B2:5CC72BA7&quot;,&quot;originating_url&quot;:&quot;https://github.com/ZhuZhaonan/DATA-MGMT/blob/master/THA/THA_4/THA_4_workflow.jpg&quot;,&quot;referrer&quot;:null,&quot;user_id&quot;:null}}\" data-hydro-click-hmac=\"8cbedbf55ab40571f9df743760628eab0eb06dc9939f4e6de8a0fcb18d5f8072\" href=\"/login?return_to=%2FZhuZhaonan%2FDATA-MGMT\">\n      <svg class=\"octicon octicon-star v-align-text-bottom\" viewBox=\"0 0 14 16\" version=\"1.1\" width=\"14\" height=\"16\" aria-hidden=\"true\"><path fill-rule=\"evenodd\" d=\"M14 6l-4.9-.64L7 1 4.9 5.36 0 6l3.6 3.26L2.67 14 7 11.67 11.33 14l-.93-4.74L14 6z\"/></svg>\n      Star\n</a>\n    <a class=\"social-count js-social-count\" href=\"/ZhuZhaonan/DATA-MGMT/stargazers\"\n      aria-label=\"0 users starred this repository\">\n      0\n    </a>\n\n  </li>\n\n  <li>\n      <a class=\"btn btn-sm btn-with-count tooltipped tooltipped-s\" aria-label=\"You must be signed in to fork a repository\" rel=\"nofollow\" data-hydro-click=\"{&quot;event_type&quot;:&quot;authentication.click&quot;,&quot;payload&quot;:{&quot;location_in_page&quot;:&quot;repo details fork button&quot;,&quot;repository_id&quot;:173347804,&quot;auth_type&quot;:&quot;LOG_IN&quot;,&quot;client_id&quot;:null,&quot;originating_request_id&quot;:&quot;EAEE:6DE0:8F7F:112B2:5CC72BA7&quot;,&quot;originating_url&quot;:&quot;https://github.com/ZhuZhaonan/DATA-MGMT/blob/master/THA/THA_4/THA_4_workflow.jpg&quot;,&quot;referrer&quot;:null,&quot;user_id&quot;:null}}\" data-hydro-click-hmac=\"23c6b93e406db8eb7134e947e6f67dca930eda15da86c1b894424becd08c2398\" href=\"/login?return_to=%2FZhuZhaonan%2FDATA-MGMT\">\n        <svg class=\"octicon octicon-repo-forked v-align-text-bottom\" viewBox=\"0 0 10 16\" version=\"1.1\" width=\"10\" height=\"16\" aria-hidden=\"true\"><path fill-rule=\"evenodd\" d=\"M8 1a1.993 1.993 0 0 0-1 3.72V6L5 8 3 6V4.72A1.993 1.993 0 0 0 2 1a1.993 1.993 0 0 0-1 3.72V6.5l3 3v1.78A1.993 1.993 0 0 0 5 15a1.993 1.993 0 0 0 1-3.72V9.5l3-3V4.72A1.993 1.993 0 0 0 8 1zM2 4.2C1.34 4.2.8 3.65.8 3c0-.65.55-1.2 1.2-1.2.65 0 1.2.55 1.2 1.2 0 .65-.55 1.2-1.2 1.2zm3 10c-.66 0-1.2-.55-1.2-1.2 0-.65.55-1.2 1.2-1.2.65 0 1.2.55 1.2 1.2 0 .65-.55 1.2-1.2 1.2zm3-10c-.66 0-1.2-.55-1.2-1.2 0-.65.55-1.2 1.2-1.2.65 0 1.2.55 1.2 1.2 0 .65-.55 1.2-1.2 1.2z\"/></svg>\n        Fork\n</a>\n    <a href=\"/ZhuZhaonan/DATA-MGMT/network/members\" class=\"social-count\"\n       aria-label=\"0 users forked this repository\">\n      0\n    </a>\n  </li>\n</ul>\n\n      <h1 class=\"public \">\n    <svg class=\"octicon octicon-repo\" viewBox=\"0 0 12 16\" version=\"1.1\" width=\"12\" height=\"16\" aria-hidden=\"true\"><path fill-rule=\"evenodd\" d=\"M4 9H3V8h1v1zm0-3H3v1h1V6zm0-2H3v1h1V4zm0-2H3v1h1V2zm8-1v12c0 .55-.45 1-1 1H6v2l-1.5-1.5L3 16v-2H1c-.55 0-1-.45-1-1V1c0-.55.45-1 1-1h10c.55 0 1 .45 1 1zm-1 10H1v2h2v-1h3v1h5v-2zm0-10H2v9h9V1z\"/></svg>\n  <span class=\"author\" itemprop=\"author\"><a class=\"url fn\" rel=\"author\" data-hovercard-type=\"user\" data-hovercard-url=\"/hovercards?user_id=47534870\" data-octo-click=\"hovercard-link-click\" data-octo-dimensions=\"link_type:self\" href=\"/ZhuZhaonan\">ZhuZhaonan</a></span><!--\n--><span class=\"path-divider\">/</span><!--\n--><strong itemprop=\"name\"><a data-pjax=\"#js-repo-pjax-container\" href=\"/ZhuZhaonan/DATA-MGMT\">DATA-MGMT</a></strong>\n  \n\n</h1>\n\n    </div>\n    \n<nav class=\"reponav js-repo-nav js-sidenav-container-pjax container\"\n     itemscope\n     itemtype=\"http://schema.org/BreadcrumbList\"\n    aria-label=\"Repository\"\n     data-pjax=\"#js-repo-pjax-container\">\n\n  <span itemscope itemtype=\"http://schema.org/ListItem\" itemprop=\"itemListElement\">\n    <a class=\"js-selected-navigation-item selected reponav-item\" itemprop=\"url\" data-hotkey=\"g c\" aria-current=\"page\" data-selected-links=\"repo_source repo_downloads repo_commits repo_releases repo_tags repo_branches repo_packages /ZhuZhaonan/DATA-MGMT\" href=\"/ZhuZhaonan/DATA-MGMT\">\n      <svg class=\"octicon octicon-code\" viewBox=\"0 0 14 16\" version=\"1.1\" width=\"14\" height=\"16\" aria-hidden=\"true\"><path fill-rule=\"evenodd\" d=\"M9.5 3L8 4.5 11.5 8 8 11.5 9.5 13 14 8 9.5 3zm-5 0L0 8l4.5 5L6 11.5 2.5 8 6 4.5 4.5 3z\"/></svg>\n      <span itemprop=\"name\">Code</span>\n      <meta itemprop=\"position\" content=\"1\">\n</a>  </span>\n\n    <span itemscope itemtype=\"http://schema.org/ListItem\" itemprop=\"itemListElement\">\n      <a itemprop=\"url\" data-hotkey=\"g i\" class=\"js-selected-navigation-item reponav-item\" data-selected-links=\"repo_issues repo_labels repo_milestones /ZhuZhaonan/DATA-MGMT/issues\" href=\"/ZhuZhaonan/DATA-MGMT/issues\">\n        <svg class=\"octicon octicon-issue-opened\" viewBox=\"0 0 14 16\" version=\"1.1\" width=\"14\" height=\"16\" aria-hidden=\"true\"><path fill-rule=\"evenodd\" d=\"M7 2.3c3.14 0 5.7 2.56 5.7 5.7s-2.56 5.7-5.7 5.7A5.71 5.71 0 0 1 1.3 8c0-3.14 2.56-5.7 5.7-5.7zM7 1C3.14 1 0 4.14 0 8s3.14 7 7 7 7-3.14 7-7-3.14-7-7-7zm1 3H6v5h2V4zm0 6H6v2h2v-2z\"/></svg>\n        <span itemprop=\"name\">Issues</span>\n        <span class=\"Counter\">4</span>\n        <meta itemprop=\"position\" content=\"2\">\n</a>    </span>\n\n  <span itemscope itemtype=\"http://schema.org/ListItem\" itemprop=\"itemListElement\">\n    <a data-hotkey=\"g p\" itemprop=\"url\" class=\"js-selected-navigation-item reponav-item\" data-selected-links=\"repo_pulls checks /ZhuZhaonan/DATA-MGMT/pulls\" href=\"/ZhuZhaonan/DATA-MGMT/pulls\">\n      <svg class=\"octicon octicon-git-pull-request\" viewBox=\"0 0 12 16\" version=\"1.1\" width=\"12\" height=\"16\" aria-hidden=\"true\"><path fill-rule=\"evenodd\" d=\"M11 11.28V5c-.03-.78-.34-1.47-.94-2.06C9.46 2.35 8.78 2.03 8 2H7V0L4 3l3 3V4h1c.27.02.48.11.69.31.21.2.3.42.31.69v6.28A1.993 1.993 0 0 0 10 15a1.993 1.993 0 0 0 1-3.72zm-1 2.92c-.66 0-1.2-.55-1.2-1.2 0-.65.55-1.2 1.2-1.2.65 0 1.2.55 1.2 1.2 0 .65-.55 1.2-1.2 1.2zM4 3c0-1.11-.89-2-2-2a1.993 1.993 0 0 0-1 3.72v6.56A1.993 1.993 0 0 0 2 15a1.993 1.993 0 0 0 1-3.72V4.72c.59-.34 1-.98 1-1.72zm-.8 10c0 .66-.55 1.2-1.2 1.2-.65 0-1.2-.55-1.2-1.2 0-.65.55-1.2 1.2-1.2.65 0 1.2.55 1.2 1.2zM2 4.2C1.34 4.2.8 3.65.8 3c0-.65.55-1.2 1.2-1.2.65 0 1.2.55 1.2 1.2 0 .65-.55 1.2-1.2 1.2z\"/></svg>\n      <span itemprop=\"name\">Pull requests</span>\n      <span class=\"Counter\">0</span>\n      <meta itemprop=\"position\" content=\"3\">\n</a>  </span>\n\n\n\n    <a data-hotkey=\"g b\" class=\"js-selected-navigation-item reponav-item\" data-selected-links=\"repo_projects new_repo_project repo_project /ZhuZhaonan/DATA-MGMT/projects\" href=\"/ZhuZhaonan/DATA-MGMT/projects\">\n      <svg class=\"octicon octicon-project\" viewBox=\"0 0 15 16\" version=\"1.1\" width=\"15\" height=\"16\" aria-hidden=\"true\"><path fill-rule=\"evenodd\" d=\"M10 12h3V2h-3v10zm-4-2h3V2H6v8zm-4 4h3V2H2v12zm-1 1h13V1H1v14zM14 0H1a1 1 0 0 0-1 1v14a1 1 0 0 0 1 1h13a1 1 0 0 0 1-1V1a1 1 0 0 0-1-1z\"/></svg>\n      Projects\n      <span class=\"Counter\" >1</span>\n</a>\n\n    <a class=\"js-selected-navigation-item reponav-item\" data-hotkey=\"g w\" data-selected-links=\"repo_wiki /ZhuZhaonan/DATA-MGMT/wiki\" href=\"/ZhuZhaonan/DATA-MGMT/wiki\">\n      <svg class=\"octicon octicon-book\" viewBox=\"0 0 16 16\" version=\"1.1\" width=\"16\" height=\"16\" aria-hidden=\"true\"><path fill-rule=\"evenodd\" d=\"M3 5h4v1H3V5zm0 3h4V7H3v1zm0 2h4V9H3v1zm11-5h-4v1h4V5zm0 2h-4v1h4V7zm0 2h-4v1h4V9zm2-6v9c0 .55-.45 1-1 1H9.5l-1 1-1-1H2c-.55 0-1-.45-1-1V3c0-.55.45-1 1-1h5.5l1 1 1-1H15c.55 0 1 .45 1 1zm-8 .5L7.5 3H2v9h6V3.5zm7-.5H9.5l-.5.5V12h6V3z\"/></svg>\n      Wiki\n</a>\n    <a class=\"js-selected-navigation-item reponav-item\" data-selected-links=\"repo_graphs repo_contributors dependency_graph pulse people alerts /ZhuZhaonan/DATA-MGMT/pulse\" href=\"/ZhuZhaonan/DATA-MGMT/pulse\">\n      <svg class=\"octicon octicon-graph\" viewBox=\"0 0 16 16\" version=\"1.1\" width=\"16\" height=\"16\" aria-hidden=\"true\"><path fill-rule=\"evenodd\" d=\"M16 14v1H0V0h1v14h15zM5 13H3V8h2v5zm4 0H7V3h2v10zm4 0h-2V6h2v7z\"/></svg>\n      Insights\n</a>\n\n</nav>\n\n\n  </div>\n<div class=\"container new-discussion-timeline experiment-repo-nav  \">\n  <div class=\"repository-content \">\n\n    \n    \n\n\n\n  \n    <a class=\"d-none js-permalink-shortcut\" data-hotkey=\"y\" href=\"/ZhuZhaonan/DATA-MGMT/blob/214aaff7816f74edd4cd053b680fb86c0ac4de33/THA/THA_4/THA_4_workflow.jpg\">Permalink</a>\n\n    <!-- blob contrib key: blob_contributors:v21:d5dcc53fa39a981d709ff288fdab1eae -->\n          <div class=\"signup-prompt-bg rounded-1\">\n      <div class=\"signup-prompt p-4 text-center mb-4 rounded-1\">\n        <div class=\"position-relative\">\n          <!-- '\"` --><!-- </textarea></xmp> --></option></form><form action=\"/prompt_dismissals/signup\" accept-charset=\"UTF-8\" method=\"post\"><input name=\"utf8\" type=\"hidden\" value=\"&#x2713;\" /><input type=\"hidden\" name=\"_method\" value=\"put\" /><input type=\"hidden\" name=\"authenticity_token\" value=\"D6B3nLHSR9piUS4gcoApPAGN0g6qktVNAluSjQ1qwq247Lx0E6bG1qiJJBEMYN5smC6l9B2oCK25UuMg9cqZ4A==\" />\n            <button type=\"submit\" class=\"position-absolute top-0 right-0 btn-link link-gray\" data-ga-click=\"(Logged out) Sign up prompt, clicked Dismiss, text:dismiss\">\n              Dismiss\n            </button>\n</form>          <h3 class=\"pt-2\">Join GitHub today</h3>\n          <p class=\"col-6 mx-auto\">GitHub is home to over 36 million developers working together to host and review code, manage projects, and build software together.</p>\n          <a class=\"btn btn-primary\" data-hydro-click=\"{&quot;event_type&quot;:&quot;authentication.click&quot;,&quot;payload&quot;:{&quot;location_in_page&quot;:&quot;files signup prompt&quot;,&quot;repository_id&quot;:null,&quot;auth_type&quot;:&quot;SIGN_UP&quot;,&quot;client_id&quot;:null,&quot;originating_request_id&quot;:&quot;EAEE:6DE0:8F7F:112B2:5CC72BA7&quot;,&quot;originating_url&quot;:&quot;https://github.com/ZhuZhaonan/DATA-MGMT/blob/master/THA/THA_4/THA_4_workflow.jpg&quot;,&quot;referrer&quot;:null,&quot;user_id&quot;:null}}\" data-hydro-click-hmac=\"76dcd568ab4967b1d577094e32d900291e61976c4948b3482c717b43a3e99b5b\" data-ga-click=\"(Logged out) Sign up prompt, clicked Sign up, text:sign-up\" href=\"/join?source=prompt-blob-show\">Sign up</a>\n        </div>\n      </div>\n    </div>\n\n\n    <div class=\"d-flex flex-items-start mb-3\">\n      <span class=\"d-flex flex-justify-between\">\n        \n<details class=\"details-reset details-overlay select-menu branch-select-menu  hx_rsm\" id=\"branch-select-menu\">\n  <summary class=\"btn btn-sm select-menu-button css-truncate\"\n           data-hotkey=\"w\"\n           \n           title=\"Switch branches or tags\">\n    <i>Branch:</i>\n    <span class=\"css-truncate-target\">master</span>\n  </summary>\n\n  <details-menu class=\"select-menu-modal hx_rsm-modal position-absolute\" style=\"z-index: 99;\" src=\"/ZhuZhaonan/DATA-MGMT/ref-list/master/THA/THA_4/THA_4_workflow.jpg?source_action=show&amp;source_controller=blob\" preload>\n    <include-fragment class=\"select-menu-loading-overlay anim-pulse\">\n      <svg height=\"32\" class=\"octicon octicon-octoface\" viewBox=\"0 0 16 16\" version=\"1.1\" width=\"32\" aria-hidden=\"true\"><path fill-rule=\"evenodd\" d=\"M14.7 5.34c.13-.32.55-1.59-.13-3.31 0 0-1.05-.33-3.44 1.3-1-.28-2.07-.32-3.13-.32s-2.13.04-3.13.32c-2.39-1.64-3.44-1.3-3.44-1.3-.68 1.72-.26 2.99-.13 3.31C.49 6.21 0 7.33 0 8.69 0 13.84 3.33 15 7.98 15S16 13.84 16 8.69c0-1.36-.49-2.48-1.3-3.35zM8 14.02c-3.3 0-5.98-.15-5.98-3.35 0-.76.38-1.48 1.02-2.07 1.07-.98 2.9-.46 4.96-.46 2.07 0 3.88-.52 4.96.46.65.59 1.02 1.3 1.02 2.07 0 3.19-2.68 3.35-5.98 3.35zM5.49 9.01c-.66 0-1.2.8-1.2 1.78s.54 1.79 1.2 1.79c.66 0 1.2-.8 1.2-1.79s-.54-1.78-1.2-1.78zm5.02 0c-.66 0-1.2.79-1.2 1.78s.54 1.79 1.2 1.79c.66 0 1.2-.8 1.2-1.79s-.53-1.78-1.2-1.78z\"/></svg>\n    </include-fragment>\n  </details-menu>\n</details>\n\n        <div class=\"BtnGroup flex-shrink-0 d-none\">\n          <a href=\"/ZhuZhaonan/DATA-MGMT/find/master\"\n                class=\"js-pjax-capture-input btn btn-sm BtnGroup-item\"\n                data-pjax\n                data-hotkey=\"t\">\n            Find file\n          </a>\n          <clipboard-copy value=\"THA/THA_4/THA_4_workflow.jpg\" class=\"btn btn-sm BtnGroup-item\">\n            Copy path\n          </clipboard-copy>\n        </div>\n      </span>\n      <h2 id=\"blob-path\" class=\"breadcrumb flex-auto min-width-0 text-normal ml-2 mr-3\">\n        <span class=\"js-repo-root text-bold\"><span class=\"js-path-segment\"><a data-pjax=\"true\" href=\"/ZhuZhaonan/DATA-MGMT\"><span>DATA-MGMT</span></a></span></span><span class=\"separator\">/</span><span class=\"js-path-segment\"><a data-pjax=\"true\" href=\"/ZhuZhaonan/DATA-MGMT/tree/master/THA\"><span>THA</span></a></span><span class=\"separator\">/</span><span class=\"js-path-segment\"><a data-pjax=\"true\" href=\"/ZhuZhaonan/DATA-MGMT/tree/master/THA/THA_4\"><span>THA_4</span></a></span><span class=\"separator\">/</span><strong class=\"final-path\">THA_4_workflow.jpg</strong>\n      </h2>\n\n      <div class=\"BtnGroup flex-shrink-0 d-inline-block\">\n        <a href=\"/ZhuZhaonan/DATA-MGMT/find/master\"\n              class=\"js-pjax-capture-input btn btn-sm BtnGroup-item\"\n              data-pjax\n              data-hotkey=\"t\">\n          Find file\n        </a>\n        <clipboard-copy value=\"THA/THA_4/THA_4_workflow.jpg\" class=\"btn btn-sm BtnGroup-item\">\n          Copy path\n        </clipboard-copy>\n      </div>\n    </div>\n\n\n\n    <include-fragment src=\"/ZhuZhaonan/DATA-MGMT/contributors/master/THA/THA_4/THA_4_workflow.jpg\" class=\"Box Box--condensed commit-loader\">\n      <div class=\"Box-body bg-blue-light f6\">\n        Fetching contributors&hellip;\n      </div>\n\n      <div class=\"Box-body d-flex flex-items-center\" >\n          <img alt=\"\" class=\"loader-loading mr-2\" src=\"https://github.githubassets.com/images/spinners/octocat-spinner-32-EAF2F5.gif\" width=\"16\" height=\"16\" />\n        <span class=\"text-red h6 loader-error\">Cannot retrieve contributors at this time</span>\n      </div>\n</include-fragment>\n\n\n\n\n\n    <div class=\"Box mt-3 position-relative\">\n      \n<div class=\"Box-header py-2 d-flex flex-justify-between flex-items-center\">\n\n  <div class=\"text-mono f6\">\n    71.4 KB\n  </div>\n\n  <div class=\"d-flex\">\n\n    <div class=\"BtnGroup\">\n      <a id=\"raw-url\" class=\"btn btn-sm BtnGroup-item\" href=\"/ZhuZhaonan/DATA-MGMT/raw/master/THA/THA_4/THA_4_workflow.jpg\">Download</a>\n      <a rel=\"nofollow\" class=\"btn btn-sm BtnGroup-item\" href=\"/ZhuZhaonan/DATA-MGMT/commits/master/THA/THA_4/THA_4_workflow.jpg\">History</a>\n    </div>\n\n\n    <div>\n\n          <!-- '\"` --><!-- </textarea></xmp> --></option></form><form class=\"inline-form\" action=\"/ZhuZhaonan/DATA-MGMT/delete/master/THA/THA_4/THA_4_workflow.jpg\" accept-charset=\"UTF-8\" method=\"post\"><input name=\"utf8\" type=\"hidden\" value=\"&#x2713;\" /><input type=\"hidden\" name=\"authenticity_token\" value=\"RsUOaWF7cwX5zcru7pzOPw+2ruIiyqu2CoDN7KTE3zn0iUwRhoXoqcUl131UFNCTKFyQxNhtn4FY7W7fbEeWPg==\" />\n            <button class=\"btn-octicon btn-octicon-danger tooltipped tooltipped-nw\" type=\"submit\"\n              aria-label=\"You must be signed in to make or propose changes\" data-disable-with>\n              <svg class=\"octicon octicon-trashcan\" viewBox=\"0 0 12 16\" version=\"1.1\" width=\"12\" height=\"16\" aria-hidden=\"true\"><path fill-rule=\"evenodd\" d=\"M11 2H9c0-.55-.45-1-1-1H5c-.55 0-1 .45-1 1H2c-.55 0-1 .45-1 1v1c0 .55.45 1 1 1v9c0 .55.45 1 1 1h7c.55 0 1-.45 1-1V5c.55 0 1-.45 1-1V3c0-.55-.45-1-1-1zm-1 12H3V5h1v8h1V5h1v8h1V5h1v8h1V5h1v9zm1-10H2V3h9v1z\"/></svg>\n            </button>\n</form>    </div>\n  </div>\n</div>\n\n      \n\n  <div itemprop=\"text\" class=\"Box-body p-0 blob-wrapper data type-text \">\n      <div class=\"text-center p-3\">\n          <span class=\"border-wrap\"><img src=\"/ZhuZhaonan/DATA-MGMT/blob/master/THA/THA_4/THA_4_workflow.jpg?raw=true\" alt=\"THA_4_workflow.jpg\"></span>\n      </div>\n  </div>\n\n    </div>\n\n  \n\n  <details class=\"details-reset details-overlay details-overlay-dark\">\n    <summary data-hotkey=\"l\" aria-label=\"Jump to line\"></summary>\n    <details-dialog class=\"Box Box--overlay d-flex flex-column anim-fade-in fast linejump\" aria-label=\"Jump to line\">\n      <!-- '\"` --><!-- </textarea></xmp> --></option></form><form class=\"js-jump-to-line-form Box-body d-flex\" action=\"\" accept-charset=\"UTF-8\" method=\"get\"><input name=\"utf8\" type=\"hidden\" value=\"&#x2713;\" />\n        <input class=\"form-control flex-auto mr-3 linejump-input js-jump-to-line-field\" type=\"text\" placeholder=\"Jump to line&hellip;\" aria-label=\"Jump to line\" autofocus>\n        <button type=\"submit\" class=\"btn\" data-close-dialog>Go</button>\n</form>    </details-dialog>\n  </details>\n\n\n\n  </div>\n  <div class=\"modal-backdrop js-touch-events\"></div>\n</div>\n\n    </main>\n  </div>\n  \n\n  </div>\n\n        \n<div class=\"footer container-lg width-full px-3\" role=\"contentinfo\">\n  <div class=\"position-relative d-flex flex-justify-between pt-6 pb-2 mt-6 f6 text-gray border-top border-gray-light \">\n    <ul class=\"list-style-none d-flex flex-wrap \">\n      <li class=\"mr-3\">&copy; 2019 <span title=\"0.15099s from unicorn-776fb9c674-j6rr4\">GitHub</span>, Inc.</li>\n        <li class=\"mr-3\"><a data-ga-click=\"Footer, go to terms, text:terms\" href=\"https://github.com/site/terms\">Terms</a></li>\n        <li class=\"mr-3\"><a data-ga-click=\"Footer, go to privacy, text:privacy\" href=\"https://github.com/site/privacy\">Privacy</a></li>\n        <li class=\"mr-3\"><a data-ga-click=\"Footer, go to security, text:security\" href=\"https://github.com/security\">Security</a></li>\n        <li class=\"mr-3\"><a href=\"https://githubstatus.com/\" data-ga-click=\"Footer, go to status, text:status\">Status</a></li>\n        <li><a data-ga-click=\"Footer, go to help, text:help\" href=\"https://help.github.com\">Help</a></li>\n    </ul>\n\n    <a aria-label=\"Homepage\" title=\"GitHub\" class=\"footer-octicon mx-lg-4\" href=\"https://github.com\">\n      <svg height=\"24\" class=\"octicon octicon-mark-github\" viewBox=\"0 0 16 16\" version=\"1.1\" width=\"24\" aria-hidden=\"true\"><path fill-rule=\"evenodd\" d=\"M8 0C3.58 0 0 3.58 0 8c0 3.54 2.29 6.53 5.47 7.59.4.07.55-.17.55-.38 0-.19-.01-.82-.01-1.49-2.01.37-2.53-.49-2.69-.94-.09-.23-.48-.94-.82-1.13-.28-.15-.68-.52-.01-.53.63-.01 1.08.58 1.23.82.72 1.21 1.87.87 2.33.66.07-.52.28-.87.51-1.07-1.78-.2-3.64-.89-3.64-3.95 0-.87.31-1.59.82-2.15-.08-.2-.36-1.02.08-2.12 0 0 .67-.21 2.2.82.64-.18 1.32-.27 2-.27.68 0 1.36.09 2 .27 1.53-1.04 2.2-.82 2.2-.82.44 1.1.16 1.92.08 2.12.51.56.82 1.27.82 2.15 0 3.07-1.87 3.75-3.65 3.95.29.25.54.73.54 1.48 0 1.07-.01 1.93-.01 2.2 0 .21.15.46.55.38A8.013 8.013 0 0 0 16 8c0-4.42-3.58-8-8-8z\"/></svg>\n</a>\n   <ul class=\"list-style-none d-flex flex-wrap \">\n        <li class=\"mr-3\"><a data-ga-click=\"Footer, go to contact, text:contact\" href=\"https://github.com/contact\">Contact GitHub</a></li>\n        <li class=\"mr-3\"><a href=\"https://github.com/pricing\" data-ga-click=\"Footer, go to Pricing, text:Pricing\">Pricing</a></li>\n      <li class=\"mr-3\"><a href=\"https://developer.github.com\" data-ga-click=\"Footer, go to api, text:api\">API</a></li>\n      <li class=\"mr-3\"><a href=\"https://training.github.com\" data-ga-click=\"Footer, go to training, text:training\">Training</a></li>\n        <li class=\"mr-3\"><a href=\"https://github.blog\" data-ga-click=\"Footer, go to blog, text:blog\">Blog</a></li>\n        <li><a data-ga-click=\"Footer, go to about, text:about\" href=\"https://github.com/about\">About</a></li>\n\n    </ul>\n  </div>\n  <div class=\"d-flex flex-justify-center pb-6\">\n    <span class=\"f6 text-gray-light\"></span>\n  </div>\n</div>\n\n\n\n  <div id=\"ajax-error-message\" class=\"ajax-error-message flash flash-error\">\n    <svg class=\"octicon octicon-alert\" viewBox=\"0 0 16 16\" version=\"1.1\" width=\"16\" height=\"16\" aria-hidden=\"true\"><path fill-rule=\"evenodd\" d=\"M8.893 1.5c-.183-.31-.52-.5-.887-.5s-.703.19-.886.5L.138 13.499a.98.98 0 0 0 0 1.001c.193.31.53.501.886.501h13.964c.367 0 .704-.19.877-.5a1.03 1.03 0 0 0 .01-1.002L8.893 1.5zm.133 11.497H6.987v-2.003h2.039v2.003zm0-3.004H6.987V5.987h2.039v4.006z\"/></svg>\n    <button type=\"button\" class=\"flash-close js-ajax-error-dismiss\" aria-label=\"Dismiss error\">\n      <svg class=\"octicon octicon-x\" viewBox=\"0 0 12 16\" version=\"1.1\" width=\"12\" height=\"16\" aria-hidden=\"true\"><path fill-rule=\"evenodd\" d=\"M7.48 8l3.75 3.75-1.48 1.48L6 9.48l-3.75 3.75-1.48-1.48L4.52 8 .77 4.25l1.48-1.48L6 6.52l3.75-3.75 1.48 1.48L7.48 8z\"/></svg>\n    </button>\n    You can’t perform that action at this time.\n  </div>\n\n\n    <script crossorigin=\"anonymous\" integrity=\"sha512-YBAv1xdy4GT0+q7xyfhbvaWz6vXUd5WF6B/LRfxtgm8+7GAyS6cw6Dc+DChx2wmRMdDjVwK5WBsxgeREeadrwA==\" type=\"application/javascript\" src=\"https://github.githubassets.com/assets/compat-bootstrap-b672f575.js\"></script>\n    <script crossorigin=\"anonymous\" integrity=\"sha512-ZtnaaB5x5AdFCSiio1TygS5Tz4kQCKGKIgZHPh78z2xfH5Gn2oRt8J6M2bvmDrOl0rtKLzuwA7OWr8teo5bLNQ==\" type=\"application/javascript\" src=\"https://github.githubassets.com/assets/frameworks-a4a2ae1b.js\"></script>\n    \n    <script crossorigin=\"anonymous\" async=\"async\" integrity=\"sha512-aDBP0Pi2Mb80MHM5rVyQ6q+jSWk9j30QETdTQImpYRs+1ge5p1ubTcE4aQ8Bx8dTA1FCKxmCZ4mBiiDma6sJCQ==\" type=\"application/javascript\" src=\"https://github.githubassets.com/assets/github-bootstrap-58d31fdb.js\"></script>\n    \n    \n    \n  <div class=\"js-stale-session-flash stale-session-flash flash flash-warn flash-banner\" hidden\n    >\n    <svg class=\"octicon octicon-alert\" viewBox=\"0 0 16 16\" version=\"1.1\" width=\"16\" height=\"16\" aria-hidden=\"true\"><path fill-rule=\"evenodd\" d=\"M8.893 1.5c-.183-.31-.52-.5-.887-.5s-.703.19-.886.5L.138 13.499a.98.98 0 0 0 0 1.001c.193.31.53.501.886.501h13.964c.367 0 .704-.19.877-.5a1.03 1.03 0 0 0 .01-1.002L8.893 1.5zm.133 11.497H6.987v-2.003h2.039v2.003zm0-3.004H6.987V5.987h2.039v4.006z\"/></svg>\n    <span class=\"signed-in-tab-flash\">You signed in with another tab or window. <a href=\"\">Reload</a> to refresh your session.</span>\n    <span class=\"signed-out-tab-flash\">You signed out in another tab or window. <a href=\"\">Reload</a> to refresh your session.</span>\n  </div>\n  <template id=\"site-details-dialog\">\n  <details class=\"details-reset details-overlay details-overlay-dark lh-default text-gray-dark\" open>\n    <summary aria-haspopup=\"dialog\" aria-label=\"Close dialog\"></summary>\n    <details-dialog class=\"Box Box--overlay d-flex flex-column anim-fade-in fast\">\n      <button class=\"Box-btn-octicon m-0 btn-octicon position-absolute right-0 top-0\" type=\"button\" aria-label=\"Close dialog\" data-close-dialog>\n        <svg class=\"octicon octicon-x\" viewBox=\"0 0 12 16\" version=\"1.1\" width=\"12\" height=\"16\" aria-hidden=\"true\"><path fill-rule=\"evenodd\" d=\"M7.48 8l3.75 3.75-1.48 1.48L6 9.48l-3.75 3.75-1.48-1.48L4.52 8 .77 4.25l1.48-1.48L6 6.52l3.75-3.75 1.48 1.48L7.48 8z\"/></svg>\n      </button>\n      <div class=\"octocat-spinner my-6 js-details-dialog-spinner\"></div>\n    </details-dialog>\n  </details>\n</template>\n\n  <div class=\"Popover js-hovercard-content position-absolute\" style=\"display: none; outline: none;\" tabindex=\"0\">\n  <div class=\"Popover-message Popover-message--bottom-left Popover-message--large Box box-shadow-large\" style=\"width:360px;\">\n  </div>\n</div>\n\n  <div aria-live=\"polite\" class=\"js-global-screen-reader-notice sr-only\"></div>\n\n  </body>\n</html>\n\n",
            "text/plain": [
              "<IPython.core.display.Image object>"
            ]
          },
          "metadata": {
            "tags": []
          },
          "execution_count": 3
        }
      ]
    },
    {
      "metadata": {
        "id": "bQc0r3nH-EMn",
        "colab_type": "text"
      },
      "cell_type": "markdown",
      "source": [
        "**Work flow on git hub: ** \n",
        "\n",
        "https://github.com/ZhuZhaonan/DATA-MGMT/blob/master/THA/THA_4/THA_4_workflow.jpg"
      ]
    },
    {
      "metadata": {
        "id": "Ib_5gFauVUyN",
        "colab_type": "text"
      },
      "cell_type": "markdown",
      "source": [
        "## 4. Row data"
      ]
    },
    {
      "metadata": {
        "id": "yrWPPB943dJR",
        "colab_type": "code",
        "outputId": "b2be8f28-3c1c-44cc-95ca-2a7b6738927c",
        "colab": {
          "base_uri": "https://localhost:8080/",
          "height": 224
        }
      },
      "cell_type": "code",
      "source": [
        "# 2016 basic information\n",
        "import pandas as pd\n",
        "df1= pd.read_csv(\"https://raw.githubusercontent.com/ma-ji/RICF/master/2016/2016_basic.tsv\",sep='\\t')\n",
        "df_bas=df1[[\"ricf_oid\",\"ba_ntr\",\"ba_fdt\",\"ba_fnd\",\"ba_evi\"]] \n",
        "df_bas.rename(columns={'ba_evi':'ba_evl'}, inplace = True)\n",
        "print(df_bas.head(5))"
      ],
      "execution_count": 0,
      "outputs": [
        {
          "output_type": "stream",
          "text": [
            "   ricf_oid ba_ntr       ba_fdt   ba_fnd ba_evl\n",
            "0      3490    NaN  2005年12月31日    200万元     1A\n",
            "1      5690    NaN  2017年02月09日       --     --\n",
            "2      3070    NaN  2007年10月15日    500万元    未参评\n",
            "3      1583    NaN  1993年07月08日  6,200万元    未参评\n",
            "4      3884    NaN  2014年07月04日    200万元     --\n"
          ],
          "name": "stdout"
        },
        {
          "output_type": "stream",
          "text": [
            "/usr/local/lib/python3.6/dist-packages/pandas/core/frame.py:4025: SettingWithCopyWarning: \n",
            "A value is trying to be set on a copy of a slice from a DataFrame\n",
            "\n",
            "See the caveats in the documentation: http://pandas.pydata.org/pandas-docs/stable/indexing.html#indexing-view-versus-copy\n",
            "  return super(DataFrame, self).rename(**kwargs)\n"
          ],
          "name": "stderr"
        }
      ]
    },
    {
      "metadata": {
        "id": "MVfucqFRB2c8",
        "colab_type": "code",
        "outputId": "f6c512df-0a03-4665-f57e-827838bce337",
        "colab": {
          "base_uri": "https://localhost:8080/",
          "height": 119
        }
      },
      "cell_type": "code",
      "source": [
        "# 2016 activities overview\n",
        "\n",
        "df2= pd.read_csv('https://raw.githubusercontent.com/ma-ji/RICF/master/2016/2016_activities_overview.tsv',sep='\\t')\n",
        "list(df2)\n",
        "df_ove= df2[['ricf_oid','ao_ad','ao_adn']]\n",
        "print(df_ove.head(5))"
      ],
      "execution_count": 0,
      "outputs": [
        {
          "output_type": "stream",
          "text": [
            "   ricf_oid         ao_ad        ao_adn\n",
            "0      2161    100,000.00          0.00\n",
            "1      1364  3,272,400.40          0.00\n",
            "2      2213          0.00          0.00\n",
            "3      3889  3,073,774.50          0.00\n",
            "4      5095    100,000.00  1,916,000.00\n"
          ],
          "name": "stdout"
        }
      ]
    },
    {
      "metadata": {
        "id": "MYV0aqKPCace",
        "colab_type": "code",
        "outputId": "a2bc027e-151f-4c65-ddb2-c988f73144c1",
        "colab": {
          "base_uri": "https://localhost:8080/",
          "height": 119
        }
      },
      "cell_type": "code",
      "source": [
        "#2016 Financial activities\n",
        "\n",
        "df3= pd.read_csv('https://raw.githubusercontent.com/ma-ji/RICF/master/2016/2016_financial_activities.tsv',sep='\\t')\n",
        "list(df3)\n",
        "df_act=df3[['ricf_oid','fa_dine_this','fa_dinu_this']]\n",
        "print(df_act.head(5))"
      ],
      "execution_count": 0,
      "outputs": [
        {
          "output_type": "stream",
          "text": [
            "   ricf_oid fa_dine_this  fa_dinu_this\n",
            "0      2161         0.00    100,000.00\n",
            "1      1364         0.00  3,272,400.40\n",
            "2      2213         0.00          0.00\n",
            "3      3889         0.00  3,073,774.50\n",
            "4      5095         0.00  2,016,000.00\n"
          ],
          "name": "stdout"
        }
      ]
    },
    {
      "metadata": {
        "id": "5bzjKYBmDjxa",
        "colab_type": "code",
        "outputId": "c9ff2a13-eff9-4bcc-fdf1-eae3d67baa75",
        "colab": {
          "base_uri": "https://localhost:8080/",
          "height": 119
        }
      },
      "cell_type": "code",
      "source": [
        "# 2016 Financial position\n",
        "\n",
        "df4= pd.read_csv('https://raw.githubusercontent.com/ma-ji/RICF/master/2016/2016_financial_position.tsv',sep='\\t')\n",
        "list(df4)\n",
        "df_pos= df4[['ricf_oid','fp_ntt_end','fp_tt_end']]\n",
        "print(df_pos.head(5))"
      ],
      "execution_count": 0,
      "outputs": [
        {
          "output_type": "stream",
          "text": [
            "   ricf_oid    fp_ntt_end     fp_tt_end\n",
            "0      2161  5,370,043.63  5,612,310.95\n",
            "1      1364  9,861,352.00  9,861,352.00\n",
            "2      2213    563,301.45    563,301.45\n",
            "3      3889  2,283,367.43  2,383,367.43\n",
            "4      5095  4,104,496.61  4,104,496.61\n"
          ],
          "name": "stdout"
        }
      ]
    },
    {
      "metadata": {
        "id": "eYJKmnYrES0Q",
        "colab_type": "code",
        "outputId": "6b0613a9-e759-4b74-fdca-9844c10db5c4",
        "colab": {
          "base_uri": "https://localhost:8080/",
          "height": 340
        }
      },
      "cell_type": "code",
      "source": [
        "# meger df_bas and df_ove\n",
        "df_5=df_bas.merge(df_ove, on=\"ricf_oid\", how=\"inner\")\n",
        "print(df_5.head(5))\n",
        "\n",
        "# meger df_5 and df_act\n",
        "df_6= df_5.merge(df_act,  on=\"ricf_oid\", how=\"inner\")\n",
        "print(df_6.head(5))\n",
        "\n",
        "# meger df_6 and df_pos\n",
        "data_raw= df_6.merge(df_pos,  on=\"ricf_oid\", how=\"inner\")\n",
        "data_raw.to_csv('data_raw.csv')\n"
      ],
      "execution_count": 0,
      "outputs": [
        {
          "output_type": "stream",
          "text": [
            "   ricf_oid  ba_ntr      ba_fdt    ba_fnd ba_evl          ao_ad ao_adn\n",
            "0      2288  非公募基金会  2011-07-04    200.00    未参评     379,538.00   0.00\n",
            "1      2256  非公募基金会  2001-06-01    220.00    未参评   6,019,570.20   0.00\n",
            "2      1059  非公募基金会  2013-12-13    200.00    未参评       9,200.00   0.00\n",
            "3       379  非公募基金会  2007-06-21  2,000.00     1A  16,793,400.00   0.00\n",
            "4       972  非公募基金会  2013-05-08    400.00    未参评     709,826.90   0.00\n",
            "   ricf_oid  ba_ntr      ba_fdt    ba_fnd ba_evl          ao_ad ao_adn  \\\n",
            "0      2288  非公募基金会  2011-07-04    200.00    未参评     379,538.00   0.00   \n",
            "1      2256  非公募基金会  2001-06-01    220.00    未参评   6,019,570.20   0.00   \n",
            "2      1059  非公募基金会  2013-12-13    200.00    未参评       9,200.00   0.00   \n",
            "3       379  非公募基金会  2007-06-21  2,000.00     1A  16,793,400.00   0.00   \n",
            "4       972  非公募基金会  2013-05-08    400.00    未参评     709,826.90   0.00   \n",
            "\n",
            "    fa_dine_this  fa_dinu_this  \n",
            "0           0.00    379,538.00  \n",
            "1   1,273,789.30  4,745,780.90  \n",
            "2           0.00      9,200.00  \n",
            "3  16,793,400.00          0.00  \n",
            "4           0.00    709,826.90  \n"
          ],
          "name": "stdout"
        }
      ]
    },
    {
      "metadata": {
        "id": "a91fByctVjlr",
        "colab_type": "text"
      },
      "cell_type": "markdown",
      "source": [
        "## 5. Cleaning data"
      ]
    },
    {
      "metadata": {
        "id": "-08nYRHWJqkr",
        "colab_type": "code",
        "outputId": "436c69d0-7c45-4946-8b32-4ea831e767e9",
        "colab": {
          "base_uri": "https://localhost:8080/",
          "height": 289
        }
      },
      "cell_type": "code",
      "source": [
        "data_raw.shape\n",
        "data_raw.dtypes\n",
        "data_raw.info()\n"
      ],
      "execution_count": 0,
      "outputs": [
        {
          "output_type": "stream",
          "text": [
            "<class 'pandas.core.frame.DataFrame'>\n",
            "Int64Index: 1769 entries, 0 to 1768\n",
            "Data columns (total 11 columns):\n",
            "ricf_oid        1769 non-null int64\n",
            "ba_ntr          1740 non-null object\n",
            "ba_fdt          1769 non-null object\n",
            "ba_fnd          1769 non-null object\n",
            "ba_evl          1729 non-null object\n",
            "ao_ad           1769 non-null object\n",
            "ao_adn          1769 non-null object\n",
            "fa_dine_this    1769 non-null object\n",
            "fa_dinu_this    1769 non-null object\n",
            "fp_ntt_end      1769 non-null object\n",
            "fp_tt_end       1769 non-null object\n",
            "dtypes: int64(1), object(10)\n",
            "memory usage: 165.8+ KB\n"
          ],
          "name": "stdout"
        }
      ]
    },
    {
      "metadata": {
        "id": "JWG2z3UhKVty",
        "colab_type": "code",
        "outputId": "a86196c6-cce1-46c1-9fc1-6c999992665d",
        "colab": {
          "base_uri": "https://localhost:8080/",
          "height": 238
        }
      },
      "cell_type": "code",
      "source": [
        "print(data_raw.head(5))"
      ],
      "execution_count": 0,
      "outputs": [
        {
          "output_type": "stream",
          "text": [
            "   ricf_oid  ba_ntr      ba_fdt    ba_fnd ba_evl          ao_ad ao_adn  \\\n",
            "0      2288  非公募基金会  2011-07-04    200.00    未参评     379,538.00   0.00   \n",
            "1      2256  非公募基金会  2001-06-01    220.00    未参评   6,019,570.20   0.00   \n",
            "2      1059  非公募基金会  2013-12-13    200.00    未参评       9,200.00   0.00   \n",
            "3       379  非公募基金会  2007-06-21  2,000.00     1A  16,793,400.00   0.00   \n",
            "4       972  非公募基金会  2013-05-08    400.00    未参评     709,826.90   0.00   \n",
            "\n",
            "    fa_dine_this  fa_dinu_this     fp_ntt_end      fp_tt_end  \n",
            "0           0.00    379,538.00   2,877,634.44   3,218,571.02  \n",
            "1   1,273,789.30  4,745,780.90   4,351,660.63   5,822,354.13  \n",
            "2           0.00      9,200.00   2,459,550.35   2,459,550.35  \n",
            "3  16,793,400.00          0.00  75,637,538.48  76,188,189.52  \n",
            "4           0.00    709,826.90   4,865,096.85   4,865,096.86  \n"
          ],
          "name": "stdout"
        }
      ]
    },
    {
      "metadata": {
        "id": "pcB35EmYKkE9",
        "colab_type": "code",
        "outputId": "5320273b-0b9b-490f-a04e-038310d766f8",
        "colab": {
          "base_uri": "https://localhost:8080/",
          "height": 238
        }
      },
      "cell_type": "code",
      "source": [
        "data_raw['fa_dine_this']=data_raw['fa_dine_this'].apply(lambda x: x.replace(',', '')).astype('float')\n",
        "data_raw['fa_dinu_this']=data_raw['fa_dinu_this'].apply(lambda x: x.replace(',', '')).astype('float')\n",
        "data_raw['ao_ad']=data_raw['ao_ad'].apply(lambda x: x.replace(',', '')).astype('float')\n",
        "data_raw['ao_adn']=data_raw['ao_adn'].apply(lambda x: x.replace(',', '')).astype('float')\n",
        "print(data_raw.head(5))"
      ],
      "execution_count": 0,
      "outputs": [
        {
          "output_type": "stream",
          "text": [
            "   ricf_oid  ba_ntr      ba_fdt    ba_fnd ba_evl       ao_ad  ao_adn  \\\n",
            "0      2288  非公募基金会  2011-07-04    200.00    未参评    379538.0     0.0   \n",
            "1      2256  非公募基金会  2001-06-01    220.00    未参评   6019570.2     0.0   \n",
            "2      1059  非公募基金会  2013-12-13    200.00    未参评      9200.0     0.0   \n",
            "3       379  非公募基金会  2007-06-21  2,000.00     1A  16793400.0     0.0   \n",
            "4       972  非公募基金会  2013-05-08    400.00    未参评    709826.9     0.0   \n",
            "\n",
            "   fa_dine_this  fa_dinu_this     fp_ntt_end      fp_tt_end  \n",
            "0           0.0      379538.0   2,877,634.44   3,218,571.02  \n",
            "1     1273789.3     4745780.9   4,351,660.63   5,822,354.13  \n",
            "2           0.0        9200.0   2,459,550.35   2,459,550.35  \n",
            "3    16793400.0           0.0  75,637,538.48  76,188,189.52  \n",
            "4           0.0      709826.9   4,865,096.85   4,865,096.86  \n"
          ],
          "name": "stdout"
        }
      ]
    },
    {
      "metadata": {
        "id": "sedEQJo7LtUK",
        "colab_type": "code",
        "colab": {}
      },
      "cell_type": "code",
      "source": [
        "# doi_1= donation income of 2016\n",
        "data_raw[\"doi_1\"]=data_raw[\"fa_dine_this\"]+data_raw[\"fa_dinu_this\"]\n",
        "data_raw"
      ],
      "execution_count": 0,
      "outputs": []
    },
    {
      "metadata": {
        "id": "srGRjuHGL9xN",
        "colab_type": "code",
        "colab": {}
      },
      "cell_type": "code",
      "source": [
        "# doi_2= donation income of 2016\n",
        "data_raw[\"doi_2\"]=data_raw[\"ao_ad\"]+data_raw[\"ao_adn\"]\n",
        "data_raw"
      ],
      "execution_count": 0,
      "outputs": []
    },
    {
      "metadata": {
        "id": "zurTiOuUMdIL",
        "colab_type": "code",
        "colab": {}
      },
      "cell_type": "code",
      "source": [
        "# cleaning \n",
        "data_raw.ba_ntr.fillna('None')\n",
        "data_raw.ao_ad.fillna('None')\n",
        "data_raw.ao_adn.fillna('None')\n",
        "data_raw.fa_dine_this.fillna('None')\n",
        "data_raw.fa_dinu_this.fillna('None')\n",
        "data_raw=data_raw.dropna()\n",
        "print(data_raw.head(5))"
      ],
      "execution_count": 0,
      "outputs": []
    },
    {
      "metadata": {
        "id": "QOqndz4hotn3",
        "colab_type": "code",
        "colab": {}
      },
      "cell_type": "code",
      "source": [
        "# cleaning fp_ntt_end and fp_tt_end\n",
        "data_raw=data_raw[ ~ data_raw['fp_tt_end'].str.contains('单位：人民币元') ]\n",
        "data_raw['fp_ntt_end']=data_raw['fp_ntt_end'].apply(lambda x: x.replace(',', '')).astype('float')\n",
        "data_raw['fp_tt_end']=data_raw['fp_tt_end'].apply(lambda x: x.replace(',', '')).astype('float')\n"
      ],
      "execution_count": 0,
      "outputs": []
    },
    {
      "metadata": {
        "id": "glIOCOd7ozW0",
        "colab_type": "code",
        "colab": {}
      },
      "cell_type": "code",
      "source": [
        "# cleaning ba_fnd ,转换单位为元\n",
        "data_raw.ba_fnd.str.contains('万元')\n",
        "data_raw['ba_fnd']=data_raw['ba_fnd'].apply(lambda x: x.replace(',', '')).astype('float')\n",
        "data_raw['ba_fnd_r']=data_raw['ba_fnd']*10000\n",
        "data_raw"
      ],
      "execution_count": 0,
      "outputs": []
    },
    {
      "metadata": {
        "id": "oPJPVthwPrJP",
        "colab_type": "code",
        "colab": {}
      },
      "cell_type": "code",
      "source": [
        "# coding ba_ntr\n",
        "data_raw=data_raw.replace('公募基金会',0)\n",
        "data_raw1=data_raw.replace('非公募基金会',1)\n",
        "data_raw1"
      ],
      "execution_count": 0,
      "outputs": []
    },
    {
      "metadata": {
        "id": "CODH6qv1qIsb",
        "colab_type": "code",
        "colab": {}
      },
      "cell_type": "code",
      "source": [
        "data_raw1.info()"
      ],
      "execution_count": 0,
      "outputs": []
    },
    {
      "metadata": {
        "id": "KTGMzVzfbUP9",
        "colab_type": "code",
        "colab": {}
      },
      "cell_type": "code",
      "source": [
        "# cleaning ba_fdt\n",
        "\n",
        "data_raw1['ba_fdt_y']=data_raw1['ba_fdt'].str[0:4]\n",
        "data_raw2=data_raw1[ ~ data_raw1['ba_fdt_y'].str.contains('发起人') ]\n",
        "data_raw2['ba_fdt_y']=data_raw2['ba_fdt_y'].astype('float')\n",
        "data_raw2"
      ],
      "execution_count": 0,
      "outputs": []
    },
    {
      "metadata": {
        "id": "hZZn-G2DyoPt",
        "colab_type": "code",
        "colab": {}
      },
      "cell_type": "code",
      "source": [
        "data_raw2['ba_fdt_o']=2017-data_raw2['ba_fdt_y']\n",
        "data_clean=data_raw2\n",
        "data_clean.to_csv('data_clean.csv')\n",
        "data_clean.info()"
      ],
      "execution_count": 0,
      "outputs": []
    },
    {
      "metadata": {
        "id": "fSruKeoXAk9M",
        "colab_type": "code",
        "colab": {}
      },
      "cell_type": "code",
      "source": [
        "data_clean.dtypes\n"
      ],
      "execution_count": 0,
      "outputs": []
    },
    {
      "metadata": {
        "id": "TOIX8cemVrdK",
        "colab_type": "text"
      },
      "cell_type": "markdown",
      "source": [
        "## 7. Data analysis"
      ]
    },
    {
      "metadata": {
        "id": "96GXY_x2D6J5",
        "colab_type": "code",
        "colab": {}
      },
      "cell_type": "code",
      "source": [
        "data_analysis=data_clean[['ricf_oid','ba_ntr','doi_1','ba_fdt_o','ba_fnd_r']]\n",
        "data_analysis\n",
        "data_analysis.to_csv('data_analysis.csv')"
      ],
      "execution_count": 0,
      "outputs": []
    },
    {
      "metadata": {
        "id": "Cg4RzKjjD_bT",
        "colab_type": "code",
        "outputId": "4abdafa2-ddd9-4d3d-8841-d61b7133fefe",
        "colab": {
          "base_uri": "https://localhost:8080/",
          "height": 204
        }
      },
      "cell_type": "code",
      "source": [
        "df=data_analysis.corr(method='spearman')\n",
        "df"
      ],
      "execution_count": 0,
      "outputs": [
        {
          "output_type": "execute_result",
          "data": {
            "text/html": [
              "<div>\n",
              "<style scoped>\n",
              "    .dataframe tbody tr th:only-of-type {\n",
              "        vertical-align: middle;\n",
              "    }\n",
              "\n",
              "    .dataframe tbody tr th {\n",
              "        vertical-align: top;\n",
              "    }\n",
              "\n",
              "    .dataframe thead th {\n",
              "        text-align: right;\n",
              "    }\n",
              "</style>\n",
              "<table border=\"1\" class=\"dataframe\">\n",
              "  <thead>\n",
              "    <tr style=\"text-align: right;\">\n",
              "      <th></th>\n",
              "      <th>ricf_oid</th>\n",
              "      <th>ba_ntr</th>\n",
              "      <th>doi_1</th>\n",
              "      <th>ba_fdt_o</th>\n",
              "      <th>ba_fnd_r</th>\n",
              "    </tr>\n",
              "  </thead>\n",
              "  <tbody>\n",
              "    <tr>\n",
              "      <th>ricf_oid</th>\n",
              "      <td>1.000000</td>\n",
              "      <td>0.289898</td>\n",
              "      <td>-0.082209</td>\n",
              "      <td>-0.707322</td>\n",
              "      <td>-0.284287</td>\n",
              "    </tr>\n",
              "    <tr>\n",
              "      <th>ba_ntr</th>\n",
              "      <td>0.289898</td>\n",
              "      <td>1.000000</td>\n",
              "      <td>-0.130568</td>\n",
              "      <td>-0.477681</td>\n",
              "      <td>-0.476159</td>\n",
              "    </tr>\n",
              "    <tr>\n",
              "      <th>doi_1</th>\n",
              "      <td>-0.082209</td>\n",
              "      <td>-0.130568</td>\n",
              "      <td>1.000000</td>\n",
              "      <td>0.103680</td>\n",
              "      <td>0.261800</td>\n",
              "    </tr>\n",
              "    <tr>\n",
              "      <th>ba_fdt_o</th>\n",
              "      <td>-0.707322</td>\n",
              "      <td>-0.477681</td>\n",
              "      <td>0.103680</td>\n",
              "      <td>1.000000</td>\n",
              "      <td>0.332886</td>\n",
              "    </tr>\n",
              "    <tr>\n",
              "      <th>ba_fnd_r</th>\n",
              "      <td>-0.284287</td>\n",
              "      <td>-0.476159</td>\n",
              "      <td>0.261800</td>\n",
              "      <td>0.332886</td>\n",
              "      <td>1.000000</td>\n",
              "    </tr>\n",
              "  </tbody>\n",
              "</table>\n",
              "</div>"
            ],
            "text/plain": [
              "          ricf_oid    ba_ntr     doi_1  ba_fdt_o  ba_fnd_r\n",
              "ricf_oid  1.000000  0.289898 -0.082209 -0.707322 -0.284287\n",
              "ba_ntr    0.289898  1.000000 -0.130568 -0.477681 -0.476159\n",
              "doi_1    -0.082209 -0.130568  1.000000  0.103680  0.261800\n",
              "ba_fdt_o -0.707322 -0.477681  0.103680  1.000000  0.332886\n",
              "ba_fnd_r -0.284287 -0.476159  0.261800  0.332886  1.000000"
            ]
          },
          "metadata": {
            "tags": []
          },
          "execution_count": 37
        }
      ]
    },
    {
      "metadata": {
        "id": "Rw65_fPQVzpG",
        "colab_type": "text"
      },
      "cell_type": "markdown",
      "source": [
        "## 8. Conclusion and discussion"
      ]
    },
    {
      "metadata": {
        "id": "7g2Iz5-2G0rA",
        "colab_type": "text"
      },
      "cell_type": "markdown",
      "source": [
        "The foundation' s type and donation income have correlationship, the correlation coefficient R= --0.130568. I also found that foundation's type have correlationship with founding year and intial fund."
      ]
    }
  ]
}